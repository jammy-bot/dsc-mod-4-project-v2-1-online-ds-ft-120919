{
  "nbformat": 4,
  "nbformat_minor": 0,
  "metadata": {
    "colab": {
      "name": "errata.ipynb",
      "provenance": [],
      "collapsed_sections": [],
      "toc_visible": true,
      "machine_shape": "hm",
      "authorship_tag": "ABX9TyNu7AageXSw/lVoJ7ZE+pKu"
    },
    "kernelspec": {
      "name": "python3",
      "display_name": "Python 3"
    },
    "accelerator": "GPU"
  },
  "cells": [
    {
      "cell_type": "markdown",
      "metadata": {
        "colab_type": "text",
        "id": "M9tWA_EUiCtG"
      },
      "source": [
        "# =============================================\n",
        "\n",
        "---\n",
        "\n"
      ]
    },
    {
      "cell_type": "markdown",
      "metadata": {
        "colab_type": "text",
        "id": "_qUsQJf3NCGZ"
      },
      "source": [
        "# Errata / previous work\n",
        "\\"
      ]
    },
    {
      "cell_type": "markdown",
      "metadata": {
        "colab_type": "text",
        "id": "rUMFlVQILlif"
      },
      "source": [
        "> Loss is much better than the previous model, but accuracy has slightly fallen.\n",
        ">\n",
        ">|previous test loss: 1.14||current test loss: 0.70|\n",
        ">|----|----|----|\n",
        ">|previous test acc: 0.77||current test acc: 0.73|"
      ]
    },
    {
      "cell_type": "code",
      "metadata": {
        "id": "_Nz_eH6wYq1r",
        "colab_type": "code",
        "colab": {}
      },
      "source": [
        "# instantiate variables for true and predicted arrays\n",
        "y_true=test_generator.classes\n",
        "\n",
        "y_pred = model_c.predict_generator(test_generator)\n",
        "y_pred = np.rint(y_pred)"
      ],
      "execution_count": 0,
      "outputs": []
    },
    {
      "cell_type": "code",
      "metadata": {
        "colab_type": "code",
        "outputId": "a81e44ab-3b89-439c-e7ac-e18e2abe366c",
        "id": "INzUziGsX_uO",
        "colab": {
          "base_uri": "https://localhost:8080/",
          "height": 52
        }
      },
      "source": [
        "# summing predictions\n",
        "print(\"Predicted 'NORMAL': \", sum(1 for i in y_pred if i == 0))\n",
        "print(\"Predicted 'PNEUMONIA':\", sum(1 for i in y_pred if i == 1))"
      ],
      "execution_count": 0,
      "outputs": [
        {
          "output_type": "stream",
          "text": [
            "Predicted 'NORMAL':  624\n",
            "Predicted 'PNEUMONIA': 0\n"
          ],
          "name": "stdout"
        }
      ]
    },
    {
      "cell_type": "code",
      "metadata": {
        "id": "maf5JZFHQZyv",
        "colab_type": "code",
        "colab": {}
      },
      "source": [
        ""
      ],
      "execution_count": 0,
      "outputs": []
    },
    {
      "cell_type": "code",
      "metadata": {
        "id": "SbKWY7c0MpPA",
        "colab_type": "code",
        "colab": {}
      },
      "source": [
        "# from sklearn.metrics import confusion_matrix, classification_report\n",
        "# viewing classification report\n",
        "# print(classification_report(y_true, y_pred, labels=[0,1]))"
      ],
      "execution_count": 0,
      "outputs": []
    },
    {
      "cell_type": "markdown",
      "metadata": {
        "id": "ydQNf-UF4RxE",
        "colab_type": "text"
      },
      "source": [
        "## Model 2"
      ]
    },
    {
      "cell_type": "markdown",
      "metadata": {
        "id": "4nAIoozX5lGW",
        "colab_type": "text"
      },
      "source": [
        "Let's try:\n",
        "* more layers\n",
        "* add dropout layers after each pooling layer"
      ]
    },
    {
      "cell_type": "code",
      "metadata": {
        "colab_type": "code",
        "id": "RtjG0-E34S4W",
        "colab": {}
      },
      "source": [
        "model_2 = models.Sequential()\n",
        "\n",
        "model_2.add(layers.Conv2D(32, (2, 2), activation='relu',\n",
        "                        input_shape=(150, 150, 3)))\n",
        "model_2.add(layers.MaxPooling2D(pool_size=(3,3))), \n",
        "\n",
        "model_2.add(layers.Conv2D(64, (2,2), activation='relu')), \n",
        "model_2.add(layers.MaxPooling2D(pool_size=(3,3))), \n",
        "\n",
        "model_2.add(layers.Conv2D(128, (3,3), activation='relu')), \n",
        "model_2.add(layers.MaxPooling2D(pool_size=(2,2))),\n",
        "\n",
        "model_2.add(layers.Conv2D(128, (2,2), activation='relu')), \n",
        "model_2.add(layers.MaxPooling2D(pool_size=(2,2))), \n",
        "\n",
        "model_2.add(layers.Flatten()), \n",
        "model_2.add(layers.Dropout(0.15)), \n",
        "\n",
        "model_2.add(layers.Dense(512, activation='relu')), \n",
        "model_2.add(layers.Dropout(0.15)), \n",
        "\n",
        "model_2.add(layers.Dense(256, activation='relu')), \n",
        "model_2.add(layers.Dense(1, activation='sigmoid'))"
      ],
      "execution_count": 0,
      "outputs": []
    },
    {
      "cell_type": "markdown",
      "metadata": {
        "id": "EBhud55m7u4F",
        "colab_type": "text"
      },
      "source": [
        "* Change the optimizer to `Adam`\n",
        "* use 'accuracy' metrics"
      ]
    },
    {
      "cell_type": "code",
      "metadata": {
        "colab_type": "code",
        "id": "WQb6HiK94S4d",
        "colab": {}
      },
      "source": [
        "# compiling the model\n",
        "model_2.compile(loss='binary_crossentropy',\n",
        "              optimizer=optimizers.Adam(lr=1e-4),\n",
        "              metrics=['acc'])"
      ],
      "execution_count": 0,
      "outputs": []
    },
    {
      "cell_type": "code",
      "metadata": {
        "colab_type": "code",
        "id": "fyLTugP64S4l",
        "colab": {}
      },
      "source": [
        "# creating callback checkpoints\n",
        "my_callbacks = [\n",
        "    EarlyStopping(patience=10, verbose=1), # lowered patience\n",
        "    ReduceLROnPlateau(factor=0.1, patience=3, min_lr=0.00001, verbose=1),\n",
        "    ModelCheckpoint(filepath = f_path + 'p3_model_2.h5', \n",
        "    verbose=1, save_best_only=True, save_weights_only=False) \n",
        "    ]"
      ],
      "execution_count": 0,
      "outputs": []
    },
    {
      "cell_type": "markdown",
      "metadata": {
        "id": "2PAh3RvSG5Wh",
        "colab_type": "text"
      },
      "source": [
        "Trade `steps_per_epoch` and `epochs` values, to train longer per epoch."
      ]
    },
    {
      "cell_type": "code",
      "metadata": {
        "colab_type": "code",
        "id": "F7vQOzi04S4n",
        "outputId": "a570ca6c-0417-4d04-a784-6e6cfd027189",
        "colab": {
          "base_uri": "https://localhost:8080/",
          "height": 1000
        }
      },
      "source": [
        "# training and evaluating the model\n",
        "# using the callback in the `model.fit`\n",
        "history_2 = model_2.fit_generator(train_generator, \n",
        "                              shuffle=True, \n",
        "                              steps_per_epoch=39, \n",
        "                              epochs=16, \n",
        "                              validation_data=validation_generator, \n",
        "#                              validation_steps=50, \n",
        "#                              class_weight=class_weights,\n",
        "                              callbacks = my_callbacks)"
      ],
      "execution_count": 0,
      "outputs": [
        {
          "output_type": "stream",
          "text": [
            "Epoch 1/16\n",
            "39/39 [==============================] - 313s 8s/step - loss: 1.9527 - acc: 0.6451 - val_loss: 0.6925 - val_acc: 0.5000\n",
            "\n",
            "Epoch 00001: val_loss improved from inf to 0.69250, saving model to ./models/p3_model_2.h5\n",
            "Epoch 2/16\n",
            "39/39 [==============================] - 315s 8s/step - loss: 0.5016 - acc: 0.7770 - val_loss: 0.6912 - val_acc: 0.5000\n",
            "\n",
            "Epoch 00002: val_loss improved from 0.69250 to 0.69115, saving model to ./models/p3_model_2.h5\n",
            "Epoch 3/16\n",
            "39/39 [==============================] - 316s 8s/step - loss: 0.3437 - acc: 0.8506 - val_loss: 0.6906 - val_acc: 0.5000\n",
            "\n",
            "Epoch 00003: val_loss improved from 0.69115 to 0.69062, saving model to ./models/p3_model_2.h5\n",
            "Epoch 4/16\n",
            "39/39 [==============================] - 315s 8s/step - loss: 0.2847 - acc: 0.8780 - val_loss: 0.6987 - val_acc: 0.5000\n",
            "\n",
            "Epoch 00004: val_loss did not improve from 0.69062\n",
            "Epoch 5/16\n",
            "39/39 [==============================] - 315s 8s/step - loss: 0.2593 - acc: 0.8900 - val_loss: 0.6851 - val_acc: 0.5000\n",
            "\n",
            "Epoch 00005: val_loss improved from 0.69062 to 0.68506, saving model to ./models/p3_model_2.h5\n",
            "Epoch 6/16\n",
            "39/39 [==============================] - 314s 8s/step - loss: 0.2424 - acc: 0.8984 - val_loss: 0.6930 - val_acc: 0.5000\n",
            "\n",
            "Epoch 00006: val_loss did not improve from 0.68506\n",
            "Epoch 7/16\n",
            "39/39 [==============================] - 313s 8s/step - loss: 0.2248 - acc: 0.9088 - val_loss: 0.6837 - val_acc: 0.5000\n",
            "\n",
            "Epoch 00007: val_loss improved from 0.68506 to 0.68371, saving model to ./models/p3_model_2.h5\n",
            "Epoch 8/16\n",
            "39/39 [==============================] - 314s 8s/step - loss: 0.2147 - acc: 0.9132 - val_loss: 0.7029 - val_acc: 0.5000\n",
            "\n",
            "Epoch 00008: val_loss did not improve from 0.68371\n",
            "Epoch 9/16\n",
            "39/39 [==============================] - 313s 8s/step - loss: 0.2014 - acc: 0.9173 - val_loss: 0.6709 - val_acc: 0.5000\n",
            "\n",
            "Epoch 00009: val_loss improved from 0.68371 to 0.67094, saving model to ./models/p3_model_2.h5\n",
            "Epoch 10/16\n",
            "39/39 [==============================] - 314s 8s/step - loss: 0.1896 - acc: 0.9235 - val_loss: 0.7182 - val_acc: 0.5000\n",
            "\n",
            "Epoch 00010: val_loss did not improve from 0.67094\n",
            "Epoch 11/16\n",
            "39/39 [==============================] - 314s 8s/step - loss: 0.1906 - acc: 0.9241 - val_loss: 0.7219 - val_acc: 0.5000\n",
            "\n",
            "Epoch 00011: val_loss did not improve from 0.67094\n",
            "Epoch 12/16\n",
            "39/39 [==============================] - 314s 8s/step - loss: 0.1860 - acc: 0.9287 - val_loss: 0.6920 - val_acc: 0.5000\n",
            "\n",
            "Epoch 00012: ReduceLROnPlateau reducing learning rate to 1e-05.\n",
            "\n",
            "Epoch 00012: val_loss did not improve from 0.67094\n",
            "Epoch 13/16\n",
            "39/39 [==============================] - 314s 8s/step - loss: 0.1734 - acc: 0.9327 - val_loss: 0.7083 - val_acc: 0.5000\n",
            "\n",
            "Epoch 00013: val_loss did not improve from 0.67094\n",
            "Epoch 14/16\n",
            "39/39 [==============================] - 314s 8s/step - loss: 0.1761 - acc: 0.9307 - val_loss: 0.6640 - val_acc: 0.5000\n",
            "\n",
            "Epoch 00014: val_loss improved from 0.67094 to 0.66399, saving model to ./models/p3_model_2.h5\n",
            "Epoch 15/16\n",
            "39/39 [==============================] - 314s 8s/step - loss: 0.1704 - acc: 0.9339 - val_loss: 0.6934 - val_acc: 0.5000\n",
            "\n",
            "Epoch 00015: val_loss did not improve from 0.66399\n",
            "Epoch 16/16\n",
            "39/39 [==============================] - 314s 8s/step - loss: 0.1699 - acc: 0.9338 - val_loss: 0.7082 - val_acc: 0.5000\n",
            "\n",
            "Epoch 00016: val_loss did not improve from 0.66399\n"
          ],
          "name": "stdout"
        }
      ]
    },
    {
      "cell_type": "code",
      "metadata": {
        "colab_type": "code",
        "id": "YVlHANoP4S4w",
        "outputId": "f1489cf6-24ff-4071-c7ca-7a642d37f008",
        "colab": {
          "base_uri": "https://localhost:8080/",
          "height": 52
        }
      },
      "source": [
        "val_loss, val_acc = model_2.evaluate_generator(validation_generator, \n",
        "                                               steps=50)\n",
        "\n",
        "print('val loss:', val_loss)\n",
        "print('val acc:', val_acc)"
      ],
      "execution_count": 0,
      "outputs": [
        {
          "output_type": "stream",
          "text": [
            "val loss: 0.6920414566993713\n",
            "val acc: 0.5\n"
          ],
          "name": "stdout"
        }
      ]
    },
    {
      "cell_type": "code",
      "metadata": {
        "colab_type": "code",
        "id": "eOqUJwtm4S4p",
        "colab": {}
      },
      "source": [
        "# download the model\n",
        "files.download('./models/p3_model_2.h5')"
      ],
      "execution_count": 0,
      "outputs": []
    },
    {
      "cell_type": "code",
      "metadata": {
        "colab_type": "code",
        "id": "7vrWLCeJ4S4s",
        "outputId": "cbf2e1f7-3893-48b5-c9f7-23b92ff3cdef",
        "colab": {
          "base_uri": "https://localhost:8080/",
          "height": 656
        }
      },
      "source": [
        "model_2.summary()"
      ],
      "execution_count": 0,
      "outputs": [
        {
          "output_type": "stream",
          "text": [
            "Model: \"sequential_9\"\n",
            "_________________________________________________________________\n",
            "Layer (type)                 Output Shape              Param #   \n",
            "=================================================================\n",
            "conv2d_29 (Conv2D)           (None, 149, 149, 32)      416       \n",
            "_________________________________________________________________\n",
            "max_pooling2d_7 (MaxPooling2 (None, 49, 49, 32)        0         \n",
            "_________________________________________________________________\n",
            "conv2d_30 (Conv2D)           (None, 48, 48, 64)        8256      \n",
            "_________________________________________________________________\n",
            "max_pooling2d_8 (MaxPooling2 (None, 16, 16, 64)        0         \n",
            "_________________________________________________________________\n",
            "conv2d_31 (Conv2D)           (None, 14, 14, 128)       73856     \n",
            "_________________________________________________________________\n",
            "max_pooling2d_9 (MaxPooling2 (None, 7, 7, 128)         0         \n",
            "_________________________________________________________________\n",
            "conv2d_32 (Conv2D)           (None, 6, 6, 128)         65664     \n",
            "_________________________________________________________________\n",
            "max_pooling2d_10 (MaxPooling (None, 3, 3, 128)         0         \n",
            "_________________________________________________________________\n",
            "flatten_9 (Flatten)          (None, 1152)              0         \n",
            "_________________________________________________________________\n",
            "dropout_3 (Dropout)          (None, 1152)              0         \n",
            "_________________________________________________________________\n",
            "dense_18 (Dense)             (None, 512)               590336    \n",
            "_________________________________________________________________\n",
            "dropout_4 (Dropout)          (None, 512)               0         \n",
            "_________________________________________________________________\n",
            "dense_19 (Dense)             (None, 256)               131328    \n",
            "_________________________________________________________________\n",
            "dense_20 (Dense)             (None, 1)                 257       \n",
            "=================================================================\n",
            "Total params: 870,113\n",
            "Trainable params: 870,113\n",
            "Non-trainable params: 0\n",
            "_________________________________________________________________\n"
          ],
          "name": "stdout"
        }
      ]
    },
    {
      "cell_type": "markdown",
      "metadata": {
        "colab_type": "text",
        "id": "opO480q14S4t"
      },
      "source": [
        "__Visualize Training Results__"
      ]
    },
    {
      "cell_type": "code",
      "metadata": {
        "colab_type": "code",
        "id": "Jpj-X33v4S4u",
        "outputId": "87951fd9-be29-4a7f-aadd-af51175e6186",
        "colab": {
          "base_uri": "https://localhost:8080/",
          "height": 544
        }
      },
      "source": [
        "import matplotlib.pyplot as plt\n",
        "%matplotlib inline \n",
        "acc = history_2.history['acc']\n",
        "val_acc = history_2.history['val_acc']\n",
        "loss = history_2.history['loss']\n",
        "val_loss = history_2.history['val_loss']\n",
        "epochs = range(len(acc))\n",
        "plt.plot(epochs, acc, 'bo', label='Training acc')\n",
        "plt.plot(epochs, val_acc, 'b', label='Validation acc')\n",
        "plt.title('Training and validation accuracy along epochs')\n",
        "plt.legend()\n",
        "\n",
        "plt.figure()\n",
        "plt.plot(epochs, loss, 'bo', label='Training loss')\n",
        "plt.plot(epochs, val_loss, 'b', label='Validation loss')\n",
        "plt.title('Training and validation loss along epochs')\n",
        "plt.legend()\n",
        "plt.show()"
      ],
      "execution_count": 0,
      "outputs": [
        {
          "output_type": "display_data",
          "data": {
            "image/png": "[encoded data removed]",
            "text/plain": [
              "<Figure size 432x288 with 1 Axes>"
            ]
          },
          "metadata": {
            "tags": [],
            "needs_background": "light"
          }
        },
        {
          "output_type": "display_data",
          "data": {
            "image/png": "[encoded data removed]",
            "text/plain": [
              "<Figure size 432x288 with 1 Axes>"
            ]
          },
          "metadata": {
            "tags": [],
            "needs_background": "light"
          }
        }
      ]
    },
    {
      "cell_type": "markdown",
      "metadata": {
        "id": "rzujLzTqcsX6",
        "colab_type": "text"
      },
      "source": [
        "> Early stopping may have been a bit premature, for this model, as measures do not appear to have settled into a definitive trend."
      ]
    },
    {
      "cell_type": "markdown",
      "metadata": {
        "id": "dT1ddJv4Lfjo",
        "colab_type": "text"
      },
      "source": [
        "### Evaluate Model 2 on Test Data"
      ]
    },
    {
      "cell_type": "code",
      "metadata": {
        "colab_type": "code",
        "id": "yz370mOJPa3M",
        "outputId": "f2c5d594-34a7-40a0-e16e-b3492b35fa21",
        "colab": {
          "base_uri": "https://localhost:8080/",
          "height": 70
        }
      },
      "source": [
        "test_generator = test_datagen.flow_from_directory(test_dir, \n",
        "                                                  target_size=(150, 150), \n",
        "                                                  batch_size=20, \n",
        "                                                  class_mode='binary')\n",
        "\n",
        "test_loss, test_acc = model_2.evaluate_generator(test_generator, steps=50)\n",
        "\n",
        "print('test loss:', test_loss)\n",
        "print('test acc:', test_acc)"
      ],
      "execution_count": 0,
      "outputs": [
        {
          "output_type": "stream",
          "text": [
            "Found 624 images belonging to 2 classes.\n",
            "test loss: 0.6922323703765869\n",
            "test acc: 0.6189024448394775\n"
          ],
          "name": "stdout"
        }
      ]
    },
    {
      "cell_type": "markdown",
      "metadata": {
        "colab_type": "text",
        "id": "4m1u_4-adGjj"
      },
      "source": [
        ">The second model performed poorly."
      ]
    },
    {
      "cell_type": "markdown",
      "metadata": {
        "colab_type": "text",
        "id": "oo-CiZ6tdUDy"
      },
      "source": [
        "__Plot Confusion Matrix__"
      ]
    },
    {
      "cell_type": "code",
      "metadata": {
        "colab_type": "code",
        "outputId": "0eee93e3-851b-47df-d3fe-b9ab91404ca8",
        "id": "jDsvcXVA-Zgo",
        "colab": {
          "base_uri": "https://localhost:8080/",
          "height": 176
        }
      },
      "source": [
        "# viewing classification report\n",
        "# from sklearn.metrics import confusion_matrix, classification_report\n",
        "print(classification_report(y_true, y_pred, labels=[0,1]))"
      ],
      "execution_count": 0,
      "outputs": [
        {
          "output_type": "stream",
          "text": [
            "              precision    recall  f1-score   support\n",
            "\n",
            "           0       0.35      0.26      0.30       234\n",
            "           1       0.61      0.71      0.66       390\n",
            "\n",
            "    accuracy                           0.54       624\n",
            "   macro avg       0.48      0.48      0.48       624\n",
            "weighted avg       0.51      0.54      0.52       624\n",
            "\n"
          ],
          "name": "stdout"
        }
      ]
    },
    {
      "cell_type": "code",
      "metadata": {
        "colab_type": "code",
        "id": "__qJDOqA-Zgs",
        "colab": {}
      },
      "source": [
        "# from sklearn.metrics import confusion_matrix\n",
        "# instantiate variables for true and predicted arrays\n",
        "y_true=test_generator.classes\n",
        "\n",
        "y_pred = model_2.predict_generator(test_generator)\n",
        "y_pred = np.rint(y_pred)"
      ],
      "execution_count": 0,
      "outputs": []
    },
    {
      "cell_type": "markdown",
      "metadata": {
        "colab_type": "text",
        "id": "sZDrJWGN-Zgt"
      },
      "source": [
        "Call on the custom function to measure performance"
      ]
    },
    {
      "cell_type": "code",
      "metadata": {
        "colab_type": "code",
        "outputId": "0cd95728-78ec-4ba4-a44e-b755e3aa1a22",
        "id": "QSuKk0T6-Zgw",
        "colab": {
          "base_uri": "https://localhost:8080/",
          "height": 105
        }
      },
      "source": [
        "#viewing performance measures\n",
        "perf_measure(y_true, y_pred)"
      ],
      "execution_count": 0,
      "outputs": [
        {
          "output_type": "stream",
          "text": [
            "TN = 61\n",
            "TP = 276\n",
            "FN = 114\n",
            "FP = 173\n",
            "\n"
          ],
          "name": "stdout"
        }
      ]
    },
    {
      "cell_type": "code",
      "metadata": {
        "colab_type": "code",
        "outputId": "80df3bf1-bf38-46f9-c409-203bf7ab5fe2",
        "id": "mCE5j3QP-Zgz",
        "colab": {
          "base_uri": "https://localhost:8080/",
          "height": 418
        }
      },
      "source": [
        "labels = [0,1]\n",
        "CM = confusion_matrix(y_true, y_pred, labels)\n",
        "\n",
        "fig, ax = plot_confusion_matrix(conf_mat=CM , \n",
        "                                figsize=(5, 5), \n",
        "                                hide_ticks=False, \n",
        "                                cmap=plt.cm.Blues)\n",
        "\n",
        "ax.set_xticklabels([''] + labels) \n",
        "ax.set_yticklabels([''] + labels) \n",
        "print(CM) \n",
        "\n",
        "plt.title(\"\\nConfusion Matrix for Augmented Model 2\", \n",
        "          fontsize=15)\n",
        "fig.savefig(\"aug_model_2_CM\", dpi=100)\n",
        "plt.show()"
      ],
      "execution_count": 0,
      "outputs": [
        {
          "output_type": "stream",
          "text": [
            "[[  0 234]\n",
            " [  0 390]]\n"
          ],
          "name": "stdout"
        },
        {
          "output_type": "display_data",
          "data": {
            "image/png": "[encoded data removed]",
            "text/plain": [
              "<Figure size 360x360 with 1 Axes>"
            ]
          },
          "metadata": {
            "tags": [],
            "needs_background": "light"
          }
        }
      ]
    },
    {
      "cell_type": "code",
      "metadata": {
        "colab_type": "code",
        "id": "nq5wDuVXdUD0",
        "outputId": "c0028ad4-2ab0-4f98-ea85-f195af59f192",
        "colab": {
          "base_uri": "https://localhost:8080/",
          "height": 1000
        }
      },
      "source": [
        "# from sklearn.metrics import confusion_matrix\n",
        "y_true=test_generator.classes\n",
        "print(y_true)\n",
        "\n",
        "y_pred = model_2.predict_generator(test_generator)\n",
        "y_pred = np.rint(y_pred)\n",
        "print(y_pred)"
      ],
      "execution_count": 0,
      "outputs": [
        {
          "output_type": "stream",
          "text": [
            "[0 0 0 0 0 0 0 0 0 0 0 0 0 0 0 0 0 0 0 0 0 0 0 0 0 0 0 0 0 0 0 0 0 0 0 0 0\n",
            " 0 0 0 0 0 0 0 0 0 0 0 0 0 0 0 0 0 0 0 0 0 0 0 0 0 0 0 0 0 0 0 0 0 0 0 0 0\n",
            " 0 0 0 0 0 0 0 0 0 0 0 0 0 0 0 0 0 0 0 0 0 0 0 0 0 0 0 0 0 0 0 0 0 0 0 0 0\n",
            " 0 0 0 0 0 0 0 0 0 0 0 0 0 0 0 0 0 0 0 0 0 0 0 0 0 0 0 0 0 0 0 0 0 0 0 0 0\n",
            " 0 0 0 0 0 0 0 0 0 0 0 0 0 0 0 0 0 0 0 0 0 0 0 0 0 0 0 0 0 0 0 0 0 0 0 0 0\n",
            " 0 0 0 0 0 0 0 0 0 0 0 0 0 0 0 0 0 0 0 0 0 0 0 0 0 0 0 0 0 0 0 0 0 0 0 0 0\n",
            " 0 0 0 0 0 0 0 0 0 0 0 0 1 1 1 1 1 1 1 1 1 1 1 1 1 1 1 1 1 1 1 1 1 1 1 1 1\n",
            " 1 1 1 1 1 1 1 1 1 1 1 1 1 1 1 1 1 1 1 1 1 1 1 1 1 1 1 1 1 1 1 1 1 1 1 1 1\n",
            " 1 1 1 1 1 1 1 1 1 1 1 1 1 1 1 1 1 1 1 1 1 1 1 1 1 1 1 1 1 1 1 1 1 1 1 1 1\n",
            " 1 1 1 1 1 1 1 1 1 1 1 1 1 1 1 1 1 1 1 1 1 1 1 1 1 1 1 1 1 1 1 1 1 1 1 1 1\n",
            " 1 1 1 1 1 1 1 1 1 1 1 1 1 1 1 1 1 1 1 1 1 1 1 1 1 1 1 1 1 1 1 1 1 1 1 1 1\n",
            " 1 1 1 1 1 1 1 1 1 1 1 1 1 1 1 1 1 1 1 1 1 1 1 1 1 1 1 1 1 1 1 1 1 1 1 1 1\n",
            " 1 1 1 1 1 1 1 1 1 1 1 1 1 1 1 1 1 1 1 1 1 1 1 1 1 1 1 1 1 1 1 1 1 1 1 1 1\n",
            " 1 1 1 1 1 1 1 1 1 1 1 1 1 1 1 1 1 1 1 1 1 1 1 1 1 1 1 1 1 1 1 1 1 1 1 1 1\n",
            " 1 1 1 1 1 1 1 1 1 1 1 1 1 1 1 1 1 1 1 1 1 1 1 1 1 1 1 1 1 1 1 1 1 1 1 1 1\n",
            " 1 1 1 1 1 1 1 1 1 1 1 1 1 1 1 1 1 1 1 1 1 1 1 1 1 1 1 1 1 1 1 1 1 1 1 1 1\n",
            " 1 1 1 1 1 1 1 1 1 1 1 1 1 1 1 1 1 1 1 1 1 1 1 1 1 1 1 1 1 1 1 1]\n",
            "[[1.]\n",
            " [1.]\n",
            " [1.]\n",
            " [1.]\n",
            " [1.]\n",
            " [1.]\n",
            " [1.]\n",
            " [1.]\n",
            " [1.]\n",
            " [1.]\n",
            " [1.]\n",
            " [1.]\n",
            " [1.]\n",
            " [1.]\n",
            " [1.]\n",
            " [1.]\n",
            " [1.]\n",
            " [1.]\n",
            " [1.]\n",
            " [1.]\n",
            " [1.]\n",
            " [1.]\n",
            " [1.]\n",
            " [1.]\n",
            " [1.]\n",
            " [1.]\n",
            " [1.]\n",
            " [1.]\n",
            " [1.]\n",
            " [1.]\n",
            " [1.]\n",
            " [1.]\n",
            " [1.]\n",
            " [1.]\n",
            " [1.]\n",
            " [1.]\n",
            " [1.]\n",
            " [1.]\n",
            " [1.]\n",
            " [1.]\n",
            " [1.]\n",
            " [1.]\n",
            " [1.]\n",
            " [1.]\n",
            " [1.]\n",
            " [1.]\n",
            " [1.]\n",
            " [1.]\n",
            " [1.]\n",
            " [1.]\n",
            " [1.]\n",
            " [1.]\n",
            " [1.]\n",
            " [1.]\n",
            " [1.]\n",
            " [1.]\n",
            " [1.]\n",
            " [1.]\n",
            " [1.]\n",
            " [1.]\n",
            " [1.]\n",
            " [1.]\n",
            " [1.]\n",
            " [1.]\n",
            " [1.]\n",
            " [1.]\n",
            " [1.]\n",
            " [1.]\n",
            " [1.]\n",
            " [1.]\n",
            " [1.]\n",
            " [1.]\n",
            " [1.]\n",
            " [1.]\n",
            " [1.]\n",
            " [1.]\n",
            " [1.]\n",
            " [1.]\n",
            " [1.]\n",
            " [1.]\n",
            " [1.]\n",
            " [1.]\n",
            " [1.]\n",
            " [1.]\n",
            " [1.]\n",
            " [1.]\n",
            " [1.]\n",
            " [1.]\n",
            " [1.]\n",
            " [1.]\n",
            " [1.]\n",
            " [1.]\n",
            " [1.]\n",
            " [1.]\n",
            " [1.]\n",
            " [1.]\n",
            " [1.]\n",
            " [1.]\n",
            " [1.]\n",
            " [1.]\n",
            " [1.]\n",
            " [1.]\n",
            " [1.]\n",
            " [1.]\n",
            " [1.]\n",
            " [1.]\n",
            " [1.]\n",
            " [1.]\n",
            " [1.]\n",
            " [1.]\n",
            " [1.]\n",
            " [1.]\n",
            " [1.]\n",
            " [1.]\n",
            " [1.]\n",
            " [1.]\n",
            " [1.]\n",
            " [1.]\n",
            " [1.]\n",
            " [1.]\n",
            " [1.]\n",
            " [1.]\n",
            " [1.]\n",
            " [1.]\n",
            " [1.]\n",
            " [1.]\n",
            " [1.]\n",
            " [1.]\n",
            " [1.]\n",
            " [1.]\n",
            " [1.]\n",
            " [1.]\n",
            " [1.]\n",
            " [1.]\n",
            " [1.]\n",
            " [1.]\n",
            " [1.]\n",
            " [1.]\n",
            " [1.]\n",
            " [1.]\n",
            " [1.]\n",
            " [1.]\n",
            " [1.]\n",
            " [1.]\n",
            " [1.]\n",
            " [1.]\n",
            " [1.]\n",
            " [1.]\n",
            " [1.]\n",
            " [1.]\n",
            " [1.]\n",
            " [1.]\n",
            " [1.]\n",
            " [1.]\n",
            " [1.]\n",
            " [1.]\n",
            " [1.]\n",
            " [1.]\n",
            " [1.]\n",
            " [1.]\n",
            " [1.]\n",
            " [1.]\n",
            " [1.]\n",
            " [1.]\n",
            " [1.]\n",
            " [1.]\n",
            " [1.]\n",
            " [1.]\n",
            " [1.]\n",
            " [1.]\n",
            " [1.]\n",
            " [1.]\n",
            " [1.]\n",
            " [1.]\n",
            " [1.]\n",
            " [1.]\n",
            " [1.]\n",
            " [1.]\n",
            " [1.]\n",
            " [1.]\n",
            " [1.]\n",
            " [1.]\n",
            " [1.]\n",
            " [1.]\n",
            " [1.]\n",
            " [1.]\n",
            " [1.]\n",
            " [1.]\n",
            " [1.]\n",
            " [1.]\n",
            " [1.]\n",
            " [1.]\n",
            " [1.]\n",
            " [1.]\n",
            " [1.]\n",
            " [1.]\n",
            " [1.]\n",
            " [1.]\n",
            " [1.]\n",
            " [1.]\n",
            " [1.]\n",
            " [1.]\n",
            " [1.]\n",
            " [1.]\n",
            " [1.]\n",
            " [1.]\n",
            " [1.]\n",
            " [1.]\n",
            " [1.]\n",
            " [1.]\n",
            " [1.]\n",
            " [1.]\n",
            " [1.]\n",
            " [1.]\n",
            " [1.]\n",
            " [1.]\n",
            " [1.]\n",
            " [1.]\n",
            " [1.]\n",
            " [1.]\n",
            " [1.]\n",
            " [1.]\n",
            " [1.]\n",
            " [1.]\n",
            " [1.]\n",
            " [1.]\n",
            " [1.]\n",
            " [1.]\n",
            " [1.]\n",
            " [1.]\n",
            " [1.]\n",
            " [1.]\n",
            " [1.]\n",
            " [1.]\n",
            " [1.]\n",
            " [1.]\n",
            " [1.]\n",
            " [1.]\n",
            " [1.]\n",
            " [1.]\n",
            " [1.]\n",
            " [1.]\n",
            " [1.]\n",
            " [1.]\n",
            " [1.]\n",
            " [1.]\n",
            " [1.]\n",
            " [1.]\n",
            " [1.]\n",
            " [1.]\n",
            " [1.]\n",
            " [1.]\n",
            " [1.]\n",
            " [1.]\n",
            " [1.]\n",
            " [1.]\n",
            " [1.]\n",
            " [1.]\n",
            " [1.]\n",
            " [1.]\n",
            " [1.]\n",
            " [1.]\n",
            " [1.]\n",
            " [1.]\n",
            " [1.]\n",
            " [1.]\n",
            " [1.]\n",
            " [1.]\n",
            " [1.]\n",
            " [1.]\n",
            " [1.]\n",
            " [1.]\n",
            " [1.]\n",
            " [1.]\n",
            " [1.]\n",
            " [1.]\n",
            " [1.]\n",
            " [1.]\n",
            " [1.]\n",
            " [1.]\n",
            " [1.]\n",
            " [1.]\n",
            " [1.]\n",
            " [1.]\n",
            " [1.]\n",
            " [1.]\n",
            " [1.]\n",
            " [1.]\n",
            " [1.]\n",
            " [1.]\n",
            " [1.]\n",
            " [1.]\n",
            " [1.]\n",
            " [1.]\n",
            " [1.]\n",
            " [1.]\n",
            " [1.]\n",
            " [1.]\n",
            " [1.]\n",
            " [1.]\n",
            " [1.]\n",
            " [1.]\n",
            " [1.]\n",
            " [1.]\n",
            " [1.]\n",
            " [1.]\n",
            " [1.]\n",
            " [1.]\n",
            " [1.]\n",
            " [1.]\n",
            " [1.]\n",
            " [1.]\n",
            " [1.]\n",
            " [1.]\n",
            " [1.]\n",
            " [1.]\n",
            " [1.]\n",
            " [1.]\n",
            " [1.]\n",
            " [1.]\n",
            " [1.]\n",
            " [1.]\n",
            " [1.]\n",
            " [1.]\n",
            " [1.]\n",
            " [1.]\n",
            " [1.]\n",
            " [1.]\n",
            " [1.]\n",
            " [1.]\n",
            " [1.]\n",
            " [1.]\n",
            " [1.]\n",
            " [1.]\n",
            " [1.]\n",
            " [1.]\n",
            " [1.]\n",
            " [1.]\n",
            " [1.]\n",
            " [1.]\n",
            " [1.]\n",
            " [1.]\n",
            " [1.]\n",
            " [1.]\n",
            " [1.]\n",
            " [1.]\n",
            " [1.]\n",
            " [1.]\n",
            " [1.]\n",
            " [1.]\n",
            " [1.]\n",
            " [1.]\n",
            " [1.]\n",
            " [1.]\n",
            " [1.]\n",
            " [1.]\n",
            " [1.]\n",
            " [1.]\n",
            " [1.]\n",
            " [1.]\n",
            " [1.]\n",
            " [1.]\n",
            " [1.]\n",
            " [1.]\n",
            " [1.]\n",
            " [1.]\n",
            " [1.]\n",
            " [1.]\n",
            " [1.]\n",
            " [1.]\n",
            " [1.]\n",
            " [1.]\n",
            " [1.]\n",
            " [1.]\n",
            " [1.]\n",
            " [1.]\n",
            " [1.]\n",
            " [1.]\n",
            " [1.]\n",
            " [1.]\n",
            " [1.]\n",
            " [1.]\n",
            " [1.]\n",
            " [1.]\n",
            " [1.]\n",
            " [1.]\n",
            " [1.]\n",
            " [1.]\n",
            " [1.]\n",
            " [1.]\n",
            " [1.]\n",
            " [1.]\n",
            " [1.]\n",
            " [1.]\n",
            " [1.]\n",
            " [1.]\n",
            " [1.]\n",
            " [1.]\n",
            " [1.]\n",
            " [1.]\n",
            " [1.]\n",
            " [1.]\n",
            " [1.]\n",
            " [1.]\n",
            " [1.]\n",
            " [1.]\n",
            " [1.]\n",
            " [1.]\n",
            " [1.]\n",
            " [1.]\n",
            " [1.]\n",
            " [1.]\n",
            " [1.]\n",
            " [1.]\n",
            " [1.]\n",
            " [1.]\n",
            " [1.]\n",
            " [1.]\n",
            " [1.]\n",
            " [1.]\n",
            " [1.]\n",
            " [1.]\n",
            " [1.]\n",
            " [1.]\n",
            " [1.]\n",
            " [1.]\n",
            " [1.]\n",
            " [1.]\n",
            " [1.]\n",
            " [1.]\n",
            " [1.]\n",
            " [1.]\n",
            " [1.]\n",
            " [1.]\n",
            " [1.]\n",
            " [1.]\n",
            " [1.]\n",
            " [1.]\n",
            " [1.]\n",
            " [1.]\n",
            " [1.]\n",
            " [1.]\n",
            " [1.]\n",
            " [1.]\n",
            " [1.]\n",
            " [1.]\n",
            " [1.]\n",
            " [1.]\n",
            " [1.]\n",
            " [1.]\n",
            " [1.]\n",
            " [1.]\n",
            " [1.]\n",
            " [1.]\n",
            " [1.]\n",
            " [1.]\n",
            " [1.]\n",
            " [1.]\n",
            " [1.]\n",
            " [1.]\n",
            " [1.]\n",
            " [1.]\n",
            " [1.]\n",
            " [1.]\n",
            " [1.]\n",
            " [1.]\n",
            " [1.]\n",
            " [1.]\n",
            " [1.]\n",
            " [1.]\n",
            " [1.]\n",
            " [1.]\n",
            " [1.]\n",
            " [1.]\n",
            " [1.]\n",
            " [1.]\n",
            " [1.]\n",
            " [1.]\n",
            " [1.]\n",
            " [1.]\n",
            " [1.]\n",
            " [1.]\n",
            " [1.]\n",
            " [1.]\n",
            " [1.]\n",
            " [1.]\n",
            " [1.]\n",
            " [1.]\n",
            " [1.]\n",
            " [1.]\n",
            " [1.]\n",
            " [1.]\n",
            " [1.]\n",
            " [1.]\n",
            " [1.]\n",
            " [1.]\n",
            " [1.]\n",
            " [1.]\n",
            " [1.]\n",
            " [1.]\n",
            " [1.]\n",
            " [1.]\n",
            " [1.]\n",
            " [1.]\n",
            " [1.]\n",
            " [1.]\n",
            " [1.]\n",
            " [1.]\n",
            " [1.]\n",
            " [1.]\n",
            " [1.]\n",
            " [1.]\n",
            " [1.]\n",
            " [1.]\n",
            " [1.]\n",
            " [1.]\n",
            " [1.]\n",
            " [1.]\n",
            " [1.]\n",
            " [1.]\n",
            " [1.]\n",
            " [1.]\n",
            " [1.]\n",
            " [1.]\n",
            " [1.]\n",
            " [1.]\n",
            " [1.]\n",
            " [1.]\n",
            " [1.]\n",
            " [1.]\n",
            " [1.]\n",
            " [1.]\n",
            " [1.]\n",
            " [1.]\n",
            " [1.]\n",
            " [1.]\n",
            " [1.]\n",
            " [1.]\n",
            " [1.]\n",
            " [1.]\n",
            " [1.]\n",
            " [1.]\n",
            " [1.]\n",
            " [1.]\n",
            " [1.]\n",
            " [1.]\n",
            " [1.]\n",
            " [1.]\n",
            " [1.]\n",
            " [1.]\n",
            " [1.]\n",
            " [1.]\n",
            " [1.]\n",
            " [1.]\n",
            " [1.]\n",
            " [1.]\n",
            " [1.]\n",
            " [1.]\n",
            " [1.]\n",
            " [1.]\n",
            " [1.]\n",
            " [1.]\n",
            " [1.]\n",
            " [1.]\n",
            " [1.]\n",
            " [1.]\n",
            " [1.]\n",
            " [1.]\n",
            " [1.]\n",
            " [1.]\n",
            " [1.]\n",
            " [1.]\n",
            " [1.]\n",
            " [1.]\n",
            " [1.]\n",
            " [1.]\n",
            " [1.]\n",
            " [1.]\n",
            " [1.]\n",
            " [1.]\n",
            " [1.]\n",
            " [1.]\n",
            " [1.]\n",
            " [1.]\n",
            " [1.]\n",
            " [1.]\n",
            " [1.]\n",
            " [1.]\n",
            " [1.]\n",
            " [1.]\n",
            " [1.]\n",
            " [1.]\n",
            " [1.]\n",
            " [1.]\n",
            " [1.]\n",
            " [1.]\n",
            " [1.]\n",
            " [1.]\n",
            " [1.]\n",
            " [1.]\n",
            " [1.]\n",
            " [1.]\n",
            " [1.]\n",
            " [1.]\n",
            " [1.]\n",
            " [1.]\n",
            " [1.]\n",
            " [1.]\n",
            " [1.]\n",
            " [1.]\n",
            " [1.]\n",
            " [1.]\n",
            " [1.]\n",
            " [1.]\n",
            " [1.]\n",
            " [1.]\n",
            " [1.]\n",
            " [1.]\n",
            " [1.]\n",
            " [1.]\n",
            " [1.]\n",
            " [1.]\n",
            " [1.]\n",
            " [1.]]\n"
          ],
          "name": "stdout"
        }
      ]
    },
    {
      "cell_type": "markdown",
      "metadata": {
        "id": "ZiryzpJxAJNG",
        "colab_type": "text"
      },
      "source": [
        ">It looks as though the training labels did not shuffle as expected."
      ]
    },
    {
      "cell_type": "markdown",
      "metadata": {
        "id": "EX50HQY_AiIo",
        "colab_type": "text"
      },
      "source": [
        "## Model 3"
      ]
    },
    {
      "cell_type": "markdown",
      "metadata": {
        "colab_type": "text",
        "id": "BWK1ggNRAk9z"
      },
      "source": [
        "* trying fewer layers and fewer dropouts\n",
        "* add dropout layers after each pooling layer"
      ]
    },
    {
      "cell_type": "code",
      "metadata": {
        "colab_type": "code",
        "id": "S1WErkU6Ak9z",
        "colab": {}
      },
      "source": [
        "# building the a 2nd CNN model\n",
        "model_3 = models.Sequential()\n",
        "model_3.add(layers.Conv2D(32, (3, 3), activation='relu', padding=\"same\",\n",
        "                        input_shape=(150, 150, 3)))\n",
        "model_3.add(layers.MaxPooling2D((2, 2)))\n",
        "model_3.add(Dropout(0.25))\n",
        "model_3.add(layers.Conv2D(64, (3, 3), activation='relu'))\n",
        "model_3.add(layers.MaxPooling2D((2, 2)))\n",
        "model.add(Dropout(0.25))\n",
        "model_3.add(layers.Conv2D(128, (3, 3), activation='relu'))\n",
        "model_3.add(layers.MaxPooling2D((2, 2)))\n",
        "model_3.add(layers.Flatten() )# this converts 3D feature maps to 1D vectors\n",
        "model_3.add(layers.Dense(512, activation='relu'))\n",
        "model_3.add(layers.Dense(1, activation='sigmoid'))"
      ],
      "execution_count": 0,
      "outputs": []
    },
    {
      "cell_type": "markdown",
      "metadata": {
        "colab_type": "text",
        "id": "y5szmwHbAk93"
      },
      "source": [
        "* Change the optimizer to `Adam`\n",
        "* use 'accuracy' metrics"
      ]
    },
    {
      "cell_type": "code",
      "metadata": {
        "colab_type": "code",
        "id": "rkoUIE4yAk94",
        "colab": {}
      },
      "source": [
        "# compiling the model\n",
        "model_3.compile(loss='binary_crossentropy',\n",
        "              optimizer=optimizers.Adam(lr=1e-4),\n",
        "              metrics=['acc'])"
      ],
      "execution_count": 0,
      "outputs": []
    },
    {
      "cell_type": "markdown",
      "metadata": {
        "colab_type": "text",
        "id": "s6Nn2UcOAk96"
      },
      "source": [
        ">Import keras modules: \n",
        "* to stop training when a monitored quantity has stopped improving\n",
        "* to save the model after every epoch\n",
        "* to reduce learning rate when a metric has stopped improving\n"
      ]
    },
    {
      "cell_type": "code",
      "metadata": {
        "colab_type": "code",
        "id": "7lDxO7jZAk97",
        "colab": {}
      },
      "source": [
        "# importing keras modules\n",
        "from keras.callbacks import EarlyStopping\n",
        "from keras.callbacks import ModelCheckpoint\n",
        "from keras.callbacks import ReduceLROnPlateau"
      ],
      "execution_count": 0,
      "outputs": []
    },
    {
      "cell_type": "code",
      "metadata": {
        "id": "fC6OfhHBtBms",
        "colab_type": "code",
        "colab": {}
      },
      "source": [
        "# increase early stopping patience"
      ],
      "execution_count": 0,
      "outputs": []
    },
    {
      "cell_type": "code",
      "metadata": {
        "colab_type": "code",
        "id": "VtF6Sfk6Ak9-",
        "colab": {}
      },
      "source": [
        "# updating callback checkpoints\n",
        "f_path = './models/'\n",
        "my_callbacks = [\n",
        "    EarlyStopping(patience=7, verbose=1),\n",
        "    ReduceLROnPlateau(factor=0.1, patience=3, min_lr=0.00001, verbose=1),\n",
        "    ModelCheckpoint(filepath = f_path + 'p3_model_3.h5', \n",
        "    verbose=1, save_best_only=True, save_weights_only=False) \n",
        "    ]"
      ],
      "execution_count": 0,
      "outputs": []
    },
    {
      "cell_type": "code",
      "metadata": {
        "colab_type": "code",
        "id": "Uqs-AYq1Ak-B",
        "outputId": "c2476ef8-7a82-4337-e803-1d06e0632b4a",
        "colab": {
          "base_uri": "https://localhost:8080/",
          "height": 194
        }
      },
      "source": [
        "# training and evaluating the model\n",
        "# using the callback in the `model.fit`\n",
        "history_3 = model_3.fit_generator(train_generator, \n",
        "                              steps_per_epoch=100, \n",
        "                              epochs=30, \n",
        "                              validation_data=validation_generator, \n",
        "                              validation_steps=50, \n",
        "                              callbacks = my_callbacks)"
      ],
      "execution_count": 0,
      "outputs": [
        {
          "output_type": "stream",
          "text": [
            "Epoch 1/30\n",
            "100/100 [==============================] - 223s 2s/step - loss: 10.3657 - acc: 0.6851 - val_loss: 0.6920 - val_acc: 0.6250\n",
            "\n",
            "Epoch 00001: val_loss improved from inf to 0.69203, saving model to ./models/p3_model_3.h5\n",
            "Epoch 2/30\n",
            "100/100 [==============================] - 210s 2s/step - loss: 0.5616 - acc: 0.7814 - val_loss: 0.6916 - val_acc: 0.6875\n",
            "\n",
            "Epoch 00002: val_loss improved from 0.69203 to 0.69161, saving model to ./models/p3_model_3.h5\n",
            "Epoch 3/30\n",
            " 14/100 [===>..........................] - ETA: 1:59 - loss: 0.4875 - acc: 0.7927"
          ],
          "name": "stdout"
        }
      ]
    },
    {
      "cell_type": "code",
      "metadata": {
        "colab_type": "code",
        "id": "Ql8mOO-CAk-G",
        "outputId": "5b38571b-6668-451d-a51f-e31a18449397",
        "colab": {
          "base_uri": "https://localhost:8080/",
          "height": 167
        }
      },
      "source": [
        "model_3.summary()"
      ],
      "execution_count": 0,
      "outputs": [
        {
          "output_type": "error",
          "ename": "NameError",
          "evalue": "ignored",
          "traceback": [
            "\u001b[0;31m---------------------------------------------------------------------------\u001b[0m",
            "\u001b[0;31mNameError\u001b[0m                                 Traceback (most recent call last)",
            "\u001b[0;32m<ipython-input-1-0238086cd86b>\u001b[0m in \u001b[0;36m<module>\u001b[0;34m()\u001b[0m\n\u001b[0;32m----> 1\u001b[0;31m \u001b[0mmodel_3\u001b[0m\u001b[0;34m.\u001b[0m\u001b[0msummary\u001b[0m\u001b[0;34m(\u001b[0m\u001b[0;34m)\u001b[0m\u001b[0;34m\u001b[0m\u001b[0;34m\u001b[0m\u001b[0m\n\u001b[0m",
            "\u001b[0;31mNameError\u001b[0m: name 'model_3' is not defined"
          ]
        }
      ]
    },
    {
      "cell_type": "markdown",
      "metadata": {
        "colab_type": "text",
        "id": "_FbNna26Ak-I"
      },
      "source": [
        "__Visualize Training Results__"
      ]
    },
    {
      "cell_type": "code",
      "metadata": {
        "colab_type": "code",
        "id": "virbd0RwAk-J",
        "outputId": "4160dd9d-d9a1-4ac0-ba6b-e0124a63d60b",
        "colab": {
          "base_uri": "https://localhost:8080/",
          "height": 544
        }
      },
      "source": [
        "import matplotlib.pyplot as plt\n",
        "%matplotlib inline \n",
        "acc = history_3.history['acc']\n",
        "val_acc = history_3.history['val_acc']\n",
        "loss = history_3.history['loss']\n",
        "val_loss = history_3.history['val_loss']\n",
        "epochs = range(len(acc))\n",
        "plt.plot(epochs, acc, 'bo', label='Training acc')\n",
        "plt.plot(epochs, val_acc, 'b', label='Validation acc')\n",
        "plt.title('Training and validation accuracy along epochs')\n",
        "plt.legend()\n",
        "plt.figure()\n",
        "plt.plot(epochs, loss, 'bo', label='Training loss')\n",
        "plt.plot(epochs, val_loss, 'b', label='Validation loss')\n",
        "plt.title('Training and validation loss along epochs')\n",
        "plt.legend()\n",
        "plt.show()"
      ],
      "execution_count": 0,
      "outputs": [
        {
          "output_type": "display_data",
          "data": {
            "image/png": "[encoded data removed]",
            "text/plain": [
              "<Figure size 432x288 with 1 Axes>"
            ]
          },
          "metadata": {
            "tags": [],
            "needs_background": "light"
          }
        },
        {
          "output_type": "display_data",
          "data": {
            "image/png": "[encoded data removed]",
            "text/plain": [
              "<Figure size 432x288 with 1 Axes>"
            ]
          },
          "metadata": {
            "tags": [],
            "needs_background": "light"
          }
        }
      ]
    },
    {
      "cell_type": "code",
      "metadata": {
        "colab_type": "code",
        "id": "CC4UrjX3Ak-M",
        "outputId": "4095d042-3660-4373-d1b6-09cf4bf11b5b",
        "colab": {
          "base_uri": "https://localhost:8080/",
          "height": 52
        }
      },
      "source": [
        "val_loss, val_acc = model_3.evaluate_generator(validation_generator, \n",
        "                                               steps=50)\n",
        "\n",
        "print('val loss:', val_loss)\n",
        "print('val acc:', val_acc)"
      ],
      "execution_count": 0,
      "outputs": [
        {
          "output_type": "stream",
          "text": [
            "val loss: 0.691329300403595\n",
            "val acc: 0.625\n"
          ],
          "name": "stdout"
        }
      ]
    },
    {
      "cell_type": "markdown",
      "metadata": {
        "id": "PMnH1ARzeprv",
        "colab_type": "text"
      },
      "source": [
        "> Acurracy droped from the previous model."
      ]
    },
    {
      "cell_type": "markdown",
      "metadata": {
        "colab_type": "text",
        "id": "sP23jqYydvsa"
      },
      "source": [
        "__Plot Confusion Matrix__"
      ]
    },
    {
      "cell_type": "code",
      "metadata": {
        "colab_type": "code",
        "id": "UsVNyo0Cdvsb",
        "outputId": "3aa778a1-43ed-47d2-e68d-c1a450dd9279",
        "colab": {
          "base_uri": "https://localhost:8080/",
          "height": 52
        }
      },
      "source": [
        "# from sklearn.metrics import confusion_matrix\n",
        "y_true=validation_generator.classes\n",
        "print(y_true)\n",
        "\n",
        "y_pred = model_3.predict_generator(validation_generator)\n",
        "y_pred = np.rint(y_pred)\n",
        "print(y_pred)"
      ],
      "execution_count": 0,
      "outputs": [
        {
          "output_type": "stream",
          "text": [
            "[0 0 0 0 0 0 0 0 1 1 1 1 1 1 1 1]\n",
            "[0 0 0 0 0 0 0 0 0 0 0 0 0 0 0 0]\n"
          ],
          "name": "stdout"
        }
      ]
    },
    {
      "cell_type": "code",
      "metadata": {
        "id": "PH_2PV2__lPl",
        "colab_type": "code",
        "outputId": "076c895b-d20b-4566-b783-4b11dfbe7950",
        "colab": {
          "base_uri": "https://localhost:8080/",
          "height": 238
        }
      },
      "source": [
        "CM = confusion_matrix(y_true, y_pred)\n",
        "\n",
        "fig, ax = plot_confusion_matrix(conf_mat=CM , \n",
        "                                figsize=(7, 7), \n",
        "                                hide_ticks=True, \n",
        "                                cmap=plt.cm.Blues)\n",
        "# plt.xticks(range(len(classes)), classes, fontsize=12)\n",
        "# plt.yticks(range(len(classes)), classes, fontsize=12)\n",
        "plt.title(\"Confusion Matrix for ...: \\n\") #+model_title, fontsize=11\n",
        "# fig.savefig(image_file_name_CM, dpi=100)\n",
        "plt.show()"
      ],
      "execution_count": 0,
      "outputs": [
        {
          "output_type": "error",
          "ename": "NameError",
          "evalue": "ignored",
          "traceback": [
            "\u001b[0;31m---------------------------------------------------------------------------\u001b[0m",
            "\u001b[0;31mNameError\u001b[0m                                 Traceback (most recent call last)",
            "\u001b[0;32m<ipython-input-71-17b3c8a12d1b>\u001b[0m in \u001b[0;36m<module>\u001b[0;34m()\u001b[0m\n\u001b[0;32m----> 1\u001b[0;31m \u001b[0mCM\u001b[0m \u001b[0;34m=\u001b[0m \u001b[0mconfusion_matrix\u001b[0m\u001b[0;34m(\u001b[0m\u001b[0my_true\u001b[0m\u001b[0;34m,\u001b[0m \u001b[0my_pred\u001b[0m\u001b[0;34m)\u001b[0m\u001b[0;34m\u001b[0m\u001b[0;34m\u001b[0m\u001b[0m\n\u001b[0m\u001b[1;32m      2\u001b[0m \u001b[0;34m\u001b[0m\u001b[0m\n\u001b[1;32m      3\u001b[0m fig, ax = plot_confusion_matrix(conf_mat=CM , \n\u001b[1;32m      4\u001b[0m                                 \u001b[0mfigsize\u001b[0m\u001b[0;34m=\u001b[0m\u001b[0;34m(\u001b[0m\u001b[0;36m7\u001b[0m\u001b[0;34m,\u001b[0m \u001b[0;36m7\u001b[0m\u001b[0;34m)\u001b[0m\u001b[0;34m,\u001b[0m\u001b[0;34m\u001b[0m\u001b[0;34m\u001b[0m\u001b[0m\n\u001b[1;32m      5\u001b[0m                                 \u001b[0mhide_ticks\u001b[0m\u001b[0;34m=\u001b[0m\u001b[0;32mTrue\u001b[0m\u001b[0;34m,\u001b[0m\u001b[0;34m\u001b[0m\u001b[0;34m\u001b[0m\u001b[0m\n",
            "\u001b[0;31mNameError\u001b[0m: name 'confusion_matrix' is not defined"
          ]
        }
      ]
    },
    {
      "cell_type": "code",
      "metadata": {
        "colab_type": "code",
        "id": "L5xxfgOGAk-E",
        "outputId": "cd57ed0c-12f9-4e4d-f1cf-f4a6357fc470",
        "colab": {
          "base_uri": "https://localhost:8080/",
          "height": 461
        }
      },
      "source": [
        "# download the model\n",
        "files.download('./models/p3_model_3.h5')"
      ],
      "execution_count": 0,
      "outputs": [
        {
          "output_type": "stream",
          "text": [
            "----------------------------------------\n",
            "Exception happened during processing of request from ('::ffff:127.0.0.1', 36166, 0, 0)\n",
            "Traceback (most recent call last):\n",
            "  File \"/usr/lib/python3.6/socketserver.py\", line 320, in _handle_request_noblock\n",
            "    self.process_request(request, client_address)\n",
            "  File \"/usr/lib/python3.6/socketserver.py\", line 351, in process_request\n",
            "    self.finish_request(request, client_address)\n",
            "  File \"/usr/lib/python3.6/socketserver.py\", line 364, in finish_request\n",
            "    self.RequestHandlerClass(request, client_address, self)\n",
            "  File \"/usr/lib/python3.6/socketserver.py\", line 724, in __init__\n",
            "    self.handle()\n",
            "  File \"/usr/lib/python3.6/http/server.py\", line 418, in handle\n",
            "    self.handle_one_request()\n",
            "  File \"/usr/lib/python3.6/http/server.py\", line 406, in handle_one_request\n",
            "    method()\n",
            "  File \"/usr/lib/python3.6/http/server.py\", line 639, in do_GET\n",
            "    self.copyfile(f, self.wfile)\n",
            "  File \"/usr/lib/python3.6/http/server.py\", line 800, in copyfile\n",
            "    shutil.copyfileobj(source, outputfile)\n",
            "  File \"/usr/lib/python3.6/shutil.py\", line 82, in copyfileobj\n",
            "    fdst.write(buf)\n",
            "  File \"/usr/lib/python3.6/socketserver.py\", line 803, in write\n",
            "    self._sock.sendall(b)\n",
            "ConnectionResetError: [Errno 104] Connection reset by peer\n",
            "----------------------------------------\n"
          ],
          "name": "stderr"
        }
      ]
    },
    {
      "cell_type": "markdown",
      "metadata": {
        "colab_type": "text",
        "id": "mfI6pTbAFqJS"
      },
      "source": [
        "### Evaluate Model 3 on Test Data"
      ]
    },
    {
      "cell_type": "code",
      "metadata": {
        "colab_type": "code",
        "id": "U4WXr3ZEFqJT",
        "outputId": "c8500815-8894-45d7-9685-ca98510e9f4e",
        "colab": {
          "base_uri": "https://localhost:8080/",
          "height": 70
        }
      },
      "source": [
        "test_generator = test_datagen.flow_from_directory(test_dir, \n",
        "                                                  target_size=(150, 150), \n",
        "                                                  batch_size=20, \n",
        "                                                  class_mode='binary')\n",
        "\n",
        "test_loss, test_acc = model_3.evaluate_generator(test_generator, steps=50)\n",
        "\n",
        "print('test loss:', test_loss)\n",
        "print('test acc:', test_acc)"
      ],
      "execution_count": 0,
      "outputs": [
        {
          "output_type": "stream",
          "text": [
            "Found 624 images belonging to 2 classes.\n",
            "test loss: 0.688644528388977\n",
            "test acc: 0.6707317233085632\n"
          ],
          "name": "stdout"
        }
      ]
    },
    {
      "cell_type": "markdown",
      "metadata": {
        "id": "9LG3hOcjfIWk",
        "colab_type": "text"
      },
      "source": [
        ">The accuracy score for test data is even (slightly) lower than that of the second model."
      ]
    }
  ]
}