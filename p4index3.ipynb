{
  "nbformat": 4,
  "nbformat_minor": 0,
  "metadata": {
    "colab": {
      "name": "p4index3.ipynb",
      "provenance": [],
      "collapsed_sections": [],
      "machine_shape": "hm",
      "authorship_tag": "ABX9TyNiu/2m7nRYv7gKVMwosWdy",
      "include_colab_link": true
    },
    "kernelspec": {
      "name": "python3",
      "display_name": "Python 3"
    },
    "accelerator": "GPU"
  },
  "cells": [
    {
      "cell_type": "markdown",
      "metadata": {
        "id": "view-in-github",
        "colab_type": "text"
      },
      "source": [
        "<a href=\"https://colab.research.google.com/github/jammy-bot/dsc-mod-4-project-v2-1-online-ds-ft-120919/blob/master/p4index3.ipynb\" target=\"_parent\"><img src=\"https://colab.research.google.com/assets/colab-badge.svg\" alt=\"Open In Colab\"/></a>"
      ]
    },
    {
      "cell_type": "code",
      "metadata": {
        "id": "J2_ZF1iLQbck",
        "colab_type": "code",
        "colab": {
          "base_uri": "https://localhost:8080/",
          "height": 37
        },
        "outputId": "595e0f40-190a-4de7-e98d-a453d9281f63"
      },
      "source": [
        "%%html\n",
        "<marquee style='width: 50%; color: Green;'>It's a Kind of Magic!</marquee>"
      ],
      "execution_count": 1,
      "outputs": [
        {
          "output_type": "display_data",
          "data": {
            "text/html": [
              "<marquee style='width: 50%; color: Green;'>It's a Kind of Magic!</marquee>"
            ],
            "text/plain": [
              "<IPython.core.display.HTML object>"
            ]
          },
          "metadata": {
            "tags": []
          }
        }
      ]
    },
    {
      "cell_type": "markdown",
      "metadata": {
        "id": "dwcIf-GN6n_2",
        "colab_type": "text"
      },
      "source": [
        "Heading\n",
        "# Title\n",
        "## Subtitle"
      ]
    },
    {
      "cell_type": "markdown",
      "metadata": {
        "id": "JilisXHhEINl",
        "colab_type": "text"
      },
      "source": [
        ">For this project, we will be working with the __Chest X-Ray Images (Pneumonia)__ dataset, from Kaggle [https://www.kaggle.com/paultimothymooney/chest-xray-pneumonia](https://www.kaggle.com/paultimothymooney/chest-xray-pneumonia). The objective of the project is to build a deep neural network model that can classify whether a given patient has pneumonia, given a chest x-ray image.\n",
        "\n",
        "        Acknowledgements\n",
        "        Data: https://data.mendeley.com/datasets/rscbjbr9sj/2\n",
        "\n",
        "        License: CC BY 4.0\n",
        "\n",
        "        Citation: http://www.cell.com/cell/fulltext/S0092-8674(18)30154-5\n"
      ]
    },
    {
      "cell_type": "markdown",
      "metadata": {
        "id": "bLUdq737xC0D",
        "colab_type": "text"
      },
      "source": [
        "# Notebook Preparation"
      ]
    },
    {
      "cell_type": "markdown",
      "metadata": {
        "id": "5HT2JZNzq05m",
        "colab_type": "text"
      },
      "source": [
        "Import required libraries."
      ]
    },
    {
      "cell_type": "code",
      "metadata": {
        "id": "hsR5BySzqxbV",
        "colab_type": "code",
        "colab": {}
      },
      "source": [
        "import numpy as np\n",
        "import pandas as pd\n",
        "import matplotlib.pyplot as plt\n",
        "%matplotlib inline\n",
        "\n",
        "from sklearn.preprocessing import StandardScaler, LabelBinarizer\n",
        "from sklearn.model_selection import train_test_split\n",
        "from sklearn.metrics import confusion_matrix, classification_report\n",
        "from mlxtend.plotting import plot_confusion_matrix\n",
        "from keras.preprocessing.image import load_img, img_to_array, array_to_img\n",
        "from keras.preprocessing.image import ImageDataGenerator\n",
        "from keras.models import Sequential\n",
        "from keras import layers, models, initializers, optimizers\n",
        "from keras.optimizers import SGD\n",
        "from keras.layers import Activation, Dense, Dropout, Flatten\n",
        "from keras.layers import Conv2D, MaxPooling2D\n",
        "from keras.callbacks import EarlyStopping, ModelCheckpoint, ReduceLROnPlateau\n",
        "from sklearn.metrics import mean_squared_error\n",
        "from keras import backend as K\n",
        "\n",
        "import random\n",
        "from random import shuffle\n",
        "from tqdm import tqdm  \n",
        "\n",
        "import warnings\n",
        "warnings.filterwarnings('ignore')"
      ],
      "execution_count": 0,
      "outputs": []
    },
    {
      "cell_type": "markdown",
      "metadata": {
        "id": "8C8JeeJF2XG9",
        "colab_type": "text"
      },
      "source": [
        "Verify the current working directory\n",
        "\n"
      ]
    },
    {
      "cell_type": "code",
      "metadata": {
        "id": "FSQFyMq5gbkf",
        "colab_type": "code",
        "colab": {
          "base_uri": "https://localhost:8080/",
          "height": 34
        },
        "outputId": "444dc1ec-dd42-44df-9b9b-72a477b22d0e"
      },
      "source": [
        "import os\n",
        "!pwd"
      ],
      "execution_count": 100,
      "outputs": [
        {
          "output_type": "stream",
          "text": [
            "/root/data\n"
          ],
          "name": "stdout"
        }
      ]
    },
    {
      "cell_type": "markdown",
      "metadata": {
        "id": "Lpxo2aimu9rp",
        "colab_type": "text"
      },
      "source": [
        "Let's get a sense of our directory structure."
      ]
    },
    {
      "cell_type": "code",
      "metadata": {
        "id": "tiAEkdJ2xky7",
        "colab_type": "code",
        "colab": {
          "base_uri": "https://localhost:8080/",
          "height": 34
        },
        "outputId": "cf336bf5-0b3f-4646-dba6-0d68197d98a4"
      },
      "source": [
        "# using Ipython magic to move to the `root` folder\n",
        "%cd /root/\n",
        "\n",
        "# viewing root subdirectories as a list\n",
        "# subdirs = [x[0] for x in os.walk('.')]\n",
        "# print(subdirs)\n",
        "\n",
        "# viewing root subdirectories in a vertical orientation\n",
        "#for x in os.walk('.'):\n",
        "#    print(x[0])"
      ],
      "execution_count": 101,
      "outputs": [
        {
          "output_type": "stream",
          "text": [
            "/root\n"
          ],
          "name": "stdout"
        }
      ]
    },
    {
      "cell_type": "markdown",
      "metadata": {
        "id": "eiV6iv_irHEF",
        "colab_type": "text"
      },
      "source": [
        "Create a `data` subdirectory and a hidden `.kaggle` directory for data download credentials."
      ]
    },
    {
      "cell_type": "code",
      "metadata": {
        "id": "Yjj3k_JUgpoG",
        "colab_type": "code",
        "colab": {
          "base_uri": "https://localhost:8080/",
          "height": 70
        },
        "outputId": "66868793-7792-4754-9fe5-938a1b1c87de"
      },
      "source": [
        "# creating a directory for sample data\n",
        "!mkdir ./data/\n",
        "\n",
        "# creating a directory for data download credentials\n",
        "!mkdir ~/.kaggle\n",
        "\n",
        "# list items in the `content` directory\n",
        "!ls"
      ],
      "execution_count": 102,
      "outputs": [
        {
          "output_type": "stream",
          "text": [
            "mkdir: cannot create directory ‘./data/’: File exists\n",
            "mkdir: cannot create directory ‘/root/.kaggle’: File exists\n",
            "data\n"
          ],
          "name": "stdout"
        }
      ]
    },
    {
      "cell_type": "markdown",
      "metadata": {
        "id": "9bXKxhbercAL",
        "colab_type": "text"
      },
      "source": [
        "Verify the hidden directory, and move into it."
      ]
    },
    {
      "cell_type": "code",
      "metadata": {
        "id": "H_gCncmCD0Rs",
        "colab_type": "code",
        "colab": {
          "base_uri": "https://localhost:8080/",
          "height": 34
        },
        "outputId": "8ee20e5c-8d29-41d1-c127-ec03cad86d01"
      },
      "source": [
        "%cd ~/.kaggle/"
      ],
      "execution_count": 103,
      "outputs": [
        {
          "output_type": "stream",
          "text": [
            "/root/.kaggle\n"
          ],
          "name": "stdout"
        }
      ]
    },
    {
      "cell_type": "markdown",
      "metadata": {
        "id": "V0k8N0aT8wu5",
        "colab_type": "text"
      },
      "source": [
        "Upload your **Kaggle API key** to the current, hidden directory."
      ]
    },
    {
      "cell_type": "code",
      "metadata": {
        "id": "8sEVzqkB84X8",
        "colab_type": "code",
        "colab": {}
      },
      "source": [
        "# import neccessary library\n",
        "from google.colab import files\n",
        "files.upload()"
      ],
      "execution_count": 0,
      "outputs": []
    },
    {
      "cell_type": "markdown",
      "metadata": {
        "id": "aEawisOYc1k4",
        "colab_type": "text"
      },
      "source": [
        "Verify the current directory and its contents."
      ]
    },
    {
      "cell_type": "code",
      "metadata": {
        "id": "kq_s1jw0clsl",
        "colab_type": "code",
        "colab": {
          "base_uri": "https://localhost:8080/",
          "height": 52
        },
        "outputId": "5a0b1e19-2a7c-49d4-9ecc-25fe2038bcfc"
      },
      "source": [
        "!pwd\n",
        "%ls"
      ],
      "execution_count": 105,
      "outputs": [
        {
          "output_type": "stream",
          "text": [
            "/root/.kaggle\n",
            "'kaggle (1).json'   kaggle.json\n"
          ],
          "name": "stdout"
        }
      ]
    },
    {
      "cell_type": "markdown",
      "metadata": {
        "id": "Ierw1gkndG88",
        "colab_type": "text"
      },
      "source": [
        "__Update permissions__ on the json file to readable and writeabile by the owner and not readable, writeable, or executable by anyone else.\n",
        "\n",
        ">  Clear output from the `files.upload()` cell, above, before saving publicly the notebook."
      ]
    },
    {
      "cell_type": "code",
      "metadata": {
        "id": "x2ahIw3UO3vN",
        "colab_type": "code",
        "colab": {}
      },
      "source": [
        "!chmod 600 ./kaggle.json"
      ],
      "execution_count": 0,
      "outputs": []
    },
    {
      "cell_type": "markdown",
      "metadata": {
        "id": "2SdPy_0AspVc",
        "colab_type": "text"
      },
      "source": [
        "Move to the `content/data` directory."
      ]
    },
    {
      "cell_type": "code",
      "metadata": {
        "id": "_vqSTctOEULE",
        "colab_type": "code",
        "colab": {
          "base_uri": "https://localhost:8080/",
          "height": 70
        },
        "outputId": "3c19ce80-bde9-485e-d24c-2f59a0fc37f2"
      },
      "source": [
        "%cd ..\n",
        "%cd data/\n",
        "\n",
        "# viewing the current, `data` directory\n",
        "%ls"
      ],
      "execution_count": 107,
      "outputs": [
        {
          "output_type": "stream",
          "text": [
            "/root\n",
            "/root/data\n",
            "aug_model_1_CM.png  \u001b[0m\u001b[01;34mchest_xray\u001b[0m/  chest-xray-pneumonia.zip  \u001b[01;34mmodels\u001b[0m/\n"
          ],
          "name": "stdout"
        }
      ]
    },
    {
      "cell_type": "markdown",
      "metadata": {
        "id": "3FHSLYahzW8f",
        "colab_type": "text"
      },
      "source": [
        "# Obtain Data"
      ]
    },
    {
      "cell_type": "markdown",
      "metadata": {
        "id": "Ju4KWlfGs3MC",
        "colab_type": "text"
      },
      "source": [
        ">The dataset is provided in \"3 folders (train, test, val) and contains subfolders for each image category (Pneumonia/Normal). There are 5,863 X-Ray images (JPEG) and 2 categories (Pneumonia/Normal).\"\n",
        "\n",
        "Download the dataset to the current `data`directory."
      ]
    },
    {
      "cell_type": "code",
      "metadata": {
        "id": "2CQbFMu2oH-H",
        "colab_type": "code",
        "colab": {
          "base_uri": "https://localhost:8080/",
          "height": 34
        },
        "outputId": "302bedd1-35d4-4c6c-cc8b-a1b06c1d034f"
      },
      "source": [
        "# downloading the dataset into `content/data'\n",
        "!kaggle datasets download -d paultimothymooney/chest-xray-pneumonia"
      ],
      "execution_count": 108,
      "outputs": [
        {
          "output_type": "stream",
          "text": [
            "chest-xray-pneumonia.zip: Skipping, found more recently modified local copy (use --force to force download)\n"
          ],
          "name": "stdout"
        }
      ]
    },
    {
      "cell_type": "markdown",
      "metadata": {
        "id": "ICYkwWKaqGy8",
        "colab_type": "text"
      },
      "source": [
        "Verify download."
      ]
    },
    {
      "cell_type": "code",
      "metadata": {
        "id": "jgpJ0XRCqDeM",
        "colab_type": "code",
        "colab": {
          "base_uri": "https://localhost:8080/",
          "height": 34
        },
        "outputId": "5768114a-6df6-46c6-da19-22789fc3e4e9"
      },
      "source": [
        "%ls"
      ],
      "execution_count": 109,
      "outputs": [
        {
          "output_type": "stream",
          "text": [
            "aug_model_1_CM.png  \u001b[0m\u001b[01;34mchest_xray\u001b[0m/  chest-xray-pneumonia.zip  \u001b[01;34mmodels\u001b[0m/\n"
          ],
          "name": "stdout"
        }
      ]
    },
    {
      "cell_type": "markdown",
      "metadata": {
        "id": "z_C1aSMvsSfD",
        "colab_type": "text"
      },
      "source": [
        "Inflate the compressed files."
      ]
    },
    {
      "cell_type": "code",
      "metadata": {
        "id": "xmtrlYUauo-S",
        "colab_type": "code",
        "colab": {
          "base_uri": "https://localhost:8080/",
          "height": 70
        },
        "outputId": "aa223fe5-e210-4232-bf90-cb37b99a7a98"
      },
      "source": [
        "# extracting the zipped files and directories\n",
        "!unzip chest-xray-pneumonia.zip"
      ],
      "execution_count": 110,
      "outputs": [
        {
          "output_type": "stream",
          "text": [
            "Archive:  chest-xray-pneumonia.zip\n",
            "replace chest_xray/__MACOSX/._chest_xray? [y]es, [n]o, [A]ll, [N]one, [r]ename: n\n",
            "replace chest_xray/__MACOSX/chest_xray/._.DS_Store? [y]es, [n]o, [A]ll, [N]one, [r]ename: N\n"
          ],
          "name": "stdout"
        }
      ]
    },
    {
      "cell_type": "markdown",
      "metadata": {
        "colab_type": "text",
        "id": "68hMN1j4quy5"
      },
      "source": [
        ">We now have a `chest_xray` folder with subdirectories for *training*, *validation*, and *test* data.\n"
      ]
    },
    {
      "cell_type": "code",
      "metadata": {
        "id": "qrfc3Ipavbjb",
        "colab_type": "code",
        "colab": {
          "base_uri": "https://localhost:8080/",
          "height": 34
        },
        "outputId": "80647a79-54f3-48da-9cca-c41d287bfa2e"
      },
      "source": [
        "# verify directory contents\n",
        "!ls"
      ],
      "execution_count": 111,
      "outputs": [
        {
          "output_type": "stream",
          "text": [
            "aug_model_1_CM.png  chest_xray\tchest-xray-pneumonia.zip  models\n"
          ],
          "name": "stdout"
        }
      ]
    },
    {
      "cell_type": "markdown",
      "metadata": {
        "id": "qdhW8SErCsAE",
        "colab_type": "text"
      },
      "source": [
        "\n",
        ">Data added to Google Colab projects get cleared at the close of each session, so we do not need to worry about removing the `chest-xray-pneumonia.zip` compressed file."
      ]
    },
    {
      "cell_type": "code",
      "metadata": {
        "id": "818W4zwu9HLo",
        "colab_type": "code",
        "colab": {
          "base_uri": "https://localhost:8080/",
          "height": 34
        },
        "outputId": "35892af9-85ea-4097-ca45-df00ad86fb88"
      },
      "source": [
        "# viewing 1 level deep\n",
        "print(os.listdir(\"/root/data/chest_xray/chest_xray\"))"
      ],
      "execution_count": 112,
      "outputs": [
        {
          "output_type": "stream",
          "text": [
            "['.DS_Store', 'val', 'train', 'test']\n"
          ],
          "name": "stdout"
        }
      ]
    },
    {
      "cell_type": "code",
      "metadata": {
        "id": "p9NXGK8R92z9",
        "colab_type": "code",
        "colab": {
          "base_uri": "https://localhost:8080/",
          "height": 34
        },
        "outputId": "335c7cbc-fe41-4dd5-92e3-7991ee4944be"
      },
      "source": [
        "# viewing next level\n",
        "print(os.listdir(\"/root/data/chest_xray/chest_xray/val/\"))"
      ],
      "execution_count": 113,
      "outputs": [
        {
          "output_type": "stream",
          "text": [
            "['.DS_Store', 'NORMAL', 'PNEUMONIA']\n"
          ],
          "name": "stdout"
        }
      ]
    },
    {
      "cell_type": "markdown",
      "metadata": {
        "id": "TLiITpCUy2VE",
        "colab_type": "text"
      },
      "source": [
        "# Scrub"
      ]
    },
    {
      "cell_type": "code",
      "metadata": {
        "id": "FWyIDuAEvyDe",
        "colab_type": "code",
        "colab": {}
      },
      "source": [
        "# instantiate variables for dataset directory paths\n",
        "train_dir = \"/root/data/chest_xray/chest_xray/train/\"\n",
        "train_normal = train_dir + 'NORMAL'\n",
        "train_pneumonia = train_dir + 'PNEUMONIA'\n",
        "\n",
        "val_dir = \"/root/data/chest_xray/chest_xray/val/\"\n",
        "val_normal = val_dir + 'NORMAL'\n",
        "val_pneumonia = val_dir + 'PNEUMONIA'\n",
        "\n",
        "test_dir = \"/root/data/chest_xray/chest_xray/test/\"\n",
        "test_normal = test_dir + 'NORMAL'\n",
        "test_pneumonia = test_dir + 'PNEUMONIA'"
      ],
      "execution_count": 0,
      "outputs": []
    },
    {
      "cell_type": "code",
      "metadata": {
        "id": "EWFM0SYMwzbA",
        "colab_type": "code",
        "colab": {
          "base_uri": "https://localhost:8080/",
          "height": 230
        },
        "outputId": "a9c9db28-8140-4455-846e-84b588b0e783"
      },
      "source": [
        "# instantiate variables for set lengths\n",
        "tn_normal_length = len([f for f in os.listdir(\n",
        "    train_normal) if f.endswith('.jpeg')])\n",
        "tn_pneumonial_length = len([f for f in os.listdir(\n",
        "    train_pneumonia) if f.endswith('.jpeg')])\n",
        "val_normal_length = len([f for f in os.listdir(\n",
        "    val_normal) if f.endswith('.jpeg')])\n",
        "val_pneumonia_length = len([f for f in os.listdir(\n",
        "    val_pneumonia) if f.endswith('.jpeg')])\n",
        "tt_normal_length = len([f for f in os.listdir(\n",
        "    test_normal) if f.endswith('.jpeg')])\n",
        "tt_pneumonia_length = len([f for f in os.listdir(\n",
        "    test_pneumonia) if f.endswith('.jpeg')])\n",
        "\n",
        "# printing how many images we have in each directory\n",
        "print('There are', tn_normal_length, \n",
        "'normal images in the training set\\n')\n",
        "\n",
        "print('There are', tn_pneumonial_length, \n",
        "'pneumonia images in the training set\\n')\n",
        "\n",
        "print('There are', val_normal_length, \n",
        "'normal images in the validation set\\n')\n",
        "\n",
        "print('There are', val_pneumonia_length, \n",
        "'pneumonia images in the validation set\\n')\n",
        "\n",
        "print('There are', tt_normal_length, \n",
        "'normal images in the test set\\n')\n",
        "\n",
        "print('There are', tt_pneumonia_length, \n",
        "'pneumonia images in the test set\\n')"
      ],
      "execution_count": 115,
      "outputs": [
        {
          "output_type": "stream",
          "text": [
            "There are 1341 normal images in the training set\n",
            "\n",
            "There are 3875 pneumonia images in the training set\n",
            "\n",
            "There are 8 normal images in the validation set\n",
            "\n",
            "There are 8 pneumonia images in the validation set\n",
            "\n",
            "There are 234 normal images in the test set\n",
            "\n",
            "There are 390 pneumonia images in the test set\n",
            "\n"
          ],
          "name": "stdout"
        }
      ]
    },
    {
      "cell_type": "markdown",
      "metadata": {
        "id": "QuYdCzqBehXZ",
        "colab_type": "text"
      },
      "source": [
        ">* Pneumonia images surpass the number of normal images nearly 3-fold, in the training data set.\n",
        "* Altogether, there are more than 5000 training images, 16 validation images, and 624 test images."
      ]
    },
    {
      "cell_type": "markdown",
      "metadata": {
        "id": "sxiXA00vvCP2",
        "colab_type": "text"
      },
      "source": [
        "# Explore and Model"
      ]
    },
    {
      "cell_type": "code",
      "metadata": {
        "id": "b4yoxeYd4C-n",
        "colab_type": "code",
        "colab": {}
      },
      "source": [
        "# importing necessary libraries.\n",
        "# import numpy as np\n",
        "# import matplotlib.pyplot as plt\n",
        "# %matplotlib inline\n",
        "import time\n",
        "import scipy\n",
        "from PIL import Image\n",
        "from scipy import ndimage\n",
        "from keras.preprocessing.image import ImageDataGenerator, array_to_img, img_to_array, load_img\n",
        "\n",
        "np.random.seed(123)"
      ],
      "execution_count": 0,
      "outputs": []
    },
    {
      "cell_type": "markdown",
      "metadata": {
        "id": "H4VuQ5y7TKUa",
        "colab_type": "text"
      },
      "source": [
        "__Data Counts and Shapes__\n",
        "\n",
        "__Standardize__ image data by dividing each matrix by 255 and resizing images to 150 x 150."
      ]
    },
    {
      "cell_type": "code",
      "metadata": {
        "id": "R-QlZvfzNX9K",
        "colab_type": "code",
        "colab": {}
      },
      "source": [
        "# instantiating rescaling generators tor train and val data\n",
        "train_datagen = ImageDataGenerator(rescale=1./255)\n",
        "test_datagen = ImageDataGenerator(rescale=1./255)"
      ],
      "execution_count": 0,
      "outputs": []
    },
    {
      "cell_type": "markdown",
      "metadata": {
        "id": "7dGrNhBTEKbf",
        "colab_type": "text"
      },
      "source": [
        "__Reshape__ image data and labels"
      ]
    },
    {
      "cell_type": "code",
      "metadata": {
        "id": "-G-b0EfFOsdd",
        "colab_type": "code",
        "colab": {
          "base_uri": "https://localhost:8080/",
          "height": 52
        },
        "outputId": "f2837633-67c6-46a8-b2bb-24a113de7159"
      },
      "source": [
        "# generating training and validation data\n",
        "train_generator = train_datagen.flow_from_directory(\n",
        "        # This is the target directory\n",
        "        train_dir,\n",
        "        # All images will be resized to 150x150\n",
        "        target_size=(150, 150),\n",
        "        batch_size=20,\n",
        "        # Since we use binary_crossentropy loss, we need binary labels\n",
        "        class_mode='binary')\n",
        "validation_generator = test_datagen.flow_from_directory(val_dir,\n",
        "                                                        target_size=(150, 150),\n",
        "                                                        batch_size=20,\n",
        "                                                        class_mode='binary')"
      ],
      "execution_count": 118,
      "outputs": [
        {
          "output_type": "stream",
          "text": [
            "Found 5216 images belonging to 2 classes.\n",
            "Found 16 images belonging to 2 classes.\n"
          ],
          "name": "stdout"
        }
      ]
    },
    {
      "cell_type": "markdown",
      "metadata": {
        "id": "1PLnMTmL-cBC",
        "colab_type": "text"
      },
      "source": [
        "__Visualize Training Data Counts__"
      ]
    },
    {
      "cell_type": "code",
      "metadata": {
        "id": "cj4RYrp6MKY6",
        "colab_type": "code",
        "colab": {}
      },
      "source": [
        "def bar_plot(dir):\n",
        "    x_dir = os.listdir(dir+'/NORMAL')\n",
        "    y_dir = os.listdir(dir+'/PNEUMONIA')\n",
        "    x=len(x_dir)\n",
        "    y=len(y_dir)\n",
        "    if dir != test_dir: \n",
        "        # account for non - image files in `train` and `val` directories\n",
        "        x = x - 1\n",
        "        y = y - 1\n",
        "    print(f'{dir} Images:\\n')\n",
        "    print('NORMAL:', x)\n",
        "    print('PNEUMONIA:', y)\n",
        "    print('Total images:', x + y)\n",
        "    print('-'*50)\n",
        "    # instantiate directory name for plot title\n",
        "    subdir_title = str.split(dir, '/')[-2] + ' directory'\n",
        "    category = ['NORMAL', 'PNEUMONIA']\n",
        "    count = [x, y]\n",
        "    plot = plt.bar(category,count) \n",
        "    plot[0].set_color('orange')\n",
        "    plt.title(\n",
        "        f\"Number of values per category in {subdir_title.title()}\\n\")\n",
        "    plt.show()"
      ],
      "execution_count": 0,
      "outputs": []
    },
    {
      "cell_type": "code",
      "metadata": {
        "id": "aigbdWXp-d4W",
        "colab_type": "code",
        "colab": {
          "base_uri": "https://localhost:8080/",
          "height": 402
        },
        "outputId": "aed9e8cc-bf89-4cec-fdb9-11aee8d91670"
      },
      "source": [
        "# plotting training data counts\n",
        "bar_plot(train_dir)"
      ],
      "execution_count": 120,
      "outputs": [
        {
          "output_type": "stream",
          "text": [
            "/root/data/chest_xray/chest_xray/train/ Images:\n",
            "\n",
            "NORMAL: 1341\n",
            "PNEUMONIA: 3875\n",
            "Total images: 5216\n",
            "--------------------------------------------------\n"
          ],
          "name": "stdout"
        },
        {
          "output_type": "display_data",
          "data": {
            "image/png": "[encoded data removed]",
            "text/plain": [
              "<Figure size 432x288 with 1 Axes>"
            ]
          },
          "metadata": {
            "tags": [],
            "needs_background": "light"
          }
        }
      ]
    },
    {
      "cell_type": "code",
      "metadata": {
        "id": "1PDX6SaYVcg8",
        "colab_type": "code",
        "colab": {
          "base_uri": "https://localhost:8080/",
          "height": 402
        },
        "outputId": "5ebde971-473b-43f6-d921-97e2a48b7677"
      },
      "source": [
        "# plotting validation data counts\n",
        "bar_plot(val_dir)"
      ],
      "execution_count": 121,
      "outputs": [
        {
          "output_type": "stream",
          "text": [
            "/root/data/chest_xray/chest_xray/val/ Images:\n",
            "\n",
            "NORMAL: 8\n",
            "PNEUMONIA: 8\n",
            "Total images: 16\n",
            "--------------------------------------------------\n"
          ],
          "name": "stdout"
        },
        {
          "output_type": "display_data",
          "data": {
            "image/png": "[encoded data removed]",
            "text/plain": [
              "<Figure size 432x288 with 1 Axes>"
            ]
          },
          "metadata": {
            "tags": [],
            "needs_background": "light"
          }
        }
      ]
    },
    {
      "cell_type": "code",
      "metadata": {
        "id": "rQgzQYWIVmoC",
        "colab_type": "code",
        "colab": {
          "base_uri": "https://localhost:8080/",
          "height": 402
        },
        "outputId": "810d61c9-3c3e-48ee-fb96-84cd57beb429"
      },
      "source": [
        "# plotting test data counts\n",
        "bar_plot(test_dir)"
      ],
      "execution_count": 122,
      "outputs": [
        {
          "output_type": "stream",
          "text": [
            "/root/data/chest_xray/chest_xray/test/ Images:\n",
            "\n",
            "NORMAL: 234\n",
            "PNEUMONIA: 390\n",
            "Total images: 624\n",
            "--------------------------------------------------\n"
          ],
          "name": "stdout"
        },
        {
          "output_type": "display_data",
          "data": {
            "image/png": "[encoded data removed]",
            "text/plain": [
              "<Figure size 432x288 with 1 Axes>"
            ]
          },
          "metadata": {
            "tags": [],
            "needs_background": "light"
          }
        }
      ]
    },
    {
      "cell_type": "markdown",
      "metadata": {
        "id": "Kpok2WL_AlTz",
        "colab_type": "text"
      },
      "source": [
        "### Preview Images"
      ]
    },
    {
      "cell_type": "code",
      "metadata": {
        "id": "KCFs0rvNCydg",
        "colab_type": "code",
        "colab": {}
      },
      "source": [
        "# instantiate variables for a training image from each class\n",
        "normal_example = os.listdir(f'{train_dir}/NORMAL')[33]\n",
        "pneumonia_example = os.listdir(f'{train_dir}/PNEUMONIA')[33]"
      ],
      "execution_count": 0,
      "outputs": []
    },
    {
      "cell_type": "code",
      "metadata": {
        "id": "NL2jNj8aHMr5",
        "colab_type": "code",
        "colab": {
          "base_uri": "https://localhost:8080/",
          "height": 281
        },
        "outputId": "92acb31f-b088-4258-bdd2-1ce63472c081"
      },
      "source": [
        "# plot a normal class training image\n",
        "normal_img = plt.imread(f'{train_dir}/NORMAL/{normal_example}')\n",
        "plt.title(\"normal\")\n",
        "plt.imshow(normal_img)\n",
        "plt.show()"
      ],
      "execution_count": 124,
      "outputs": [
        {
          "output_type": "display_data",
          "data": {
            "image/png": "[encoded data removed]",
            "text/plain": [
              "<Figure size 432x288 with 1 Axes>"
            ]
          },
          "metadata": {
            "tags": [],
            "needs_background": "light"
          }
        }
      ]
    },
    {
      "cell_type": "code",
      "metadata": {
        "id": "14nKRI0XAicz",
        "colab_type": "code",
        "colab": {
          "base_uri": "https://localhost:8080/",
          "height": 281
        },
        "outputId": "a5cc6eea-405c-457f-b77e-8ec1b7091a6d"
      },
      "source": [
        "# plot a pneumonia class training image\n",
        "pneumonia_img = plt.imread(f'{train_dir}/PNEUMONIA/{pneumonia_example}')\n",
        "plt.imshow(pneumonia_img)\n",
        "plt.title('pneumonia')\n",
        "plt.show()"
      ],
      "execution_count": 125,
      "outputs": [
        {
          "output_type": "display_data",
          "data": {
            "image/png": "[encoded data removed]",
            "text/plain": [
              "<Figure size 432x288 with 1 Axes>"
            ]
          },
          "metadata": {
            "tags": [],
            "needs_background": "light"
          }
        }
      ]
    },
    {
      "cell_type": "markdown",
      "metadata": {
        "id": "QPWhdC6rNYFh",
        "colab_type": "text"
      },
      "source": [
        "## Design Model 1\n",
        ">Using Keras:\n",
        "* Alternate convolutional and pooling layers\n",
        "* Include later layers with a larger number of parameters in order to detect more abstract patterns\n",
        "* Add final dense layers to add a classifier to the convolutional base\n",
        "* Compile this model"
      ]
    },
    {
      "cell_type": "code",
      "metadata": {
        "id": "ErDDAA7UQj8u",
        "colab_type": "code",
        "colab": {}
      },
      "source": [
        "# importing necessary libraries\n",
        "# from keras import layers\n",
        "# from keras import models\n",
        "# from keras import optimizers"
      ],
      "execution_count": 0,
      "outputs": []
    },
    {
      "cell_type": "code",
      "metadata": {
        "id": "BSQkIMwwQtLV",
        "colab_type": "code",
        "colab": {}
      },
      "source": [
        "# building the CNN model\n",
        "model = models.Sequential()\n",
        "model.add(layers.Conv2D(32, (3, 3), activation='relu',\n",
        "                        input_shape=(150, 150, 3)))\n",
        "model.add(layers.MaxPooling2D((2, 2)))\n",
        "model.add(layers.Conv2D(64, (3, 3), activation='relu'))\n",
        "model.add(layers.MaxPooling2D((2, 2)))\n",
        "model.add(layers.Conv2D(128, (3, 3), activation='relu'))\n",
        "model.add(layers.MaxPooling2D((2, 2)))\n",
        "model.add(layers.Conv2D(128, (3, 3), activation='relu'))\n",
        "model.add(layers.MaxPooling2D((2, 2)))\n",
        "model.add(layers.Flatten())\n",
        "model.add(layers.Dense(512, activation='relu'))\n",
        "model.add(layers.Dense(1, activation='sigmoid'))"
      ],
      "execution_count": 0,
      "outputs": []
    },
    {
      "cell_type": "code",
      "metadata": {
        "id": "cEnlIrFuRT6_",
        "colab_type": "code",
        "colab": {}
      },
      "source": [
        "# compiling the model\n",
        "model.compile(loss='binary_crossentropy',\n",
        "              optimizer=optimizers.RMSprop(lr=1e-4),\n",
        "              metrics=['acc'])"
      ],
      "execution_count": 0,
      "outputs": []
    },
    {
      "cell_type": "code",
      "metadata": {
        "id": "UHNTiySLVa9Q",
        "colab_type": "code",
        "colab": {}
      },
      "source": [
        "# importing keras modules\n",
        "# from keras.callbacks import EarlyStopping\n",
        "# from keras.callbacks import ModelCheckpoint\n",
        "# from keras.callbacks import ReduceLROnPlateau"
      ],
      "execution_count": 0,
      "outputs": []
    },
    {
      "cell_type": "code",
      "metadata": {
        "id": "HlZuQYEacNED",
        "colab_type": "code",
        "colab": {
          "base_uri": "https://localhost:8080/",
          "height": 34
        },
        "outputId": "e68a4f62-3d4e-4013-a564-f42870d2cc7b"
      },
      "source": [
        "# creating a directory for saving models\n",
        "!mkdir ./models/"
      ],
      "execution_count": 130,
      "outputs": [
        {
          "output_type": "stream",
          "text": [
            "mkdir: cannot create directory ‘./models/’: File exists\n"
          ],
          "name": "stdout"
        }
      ]
    },
    {
      "cell_type": "markdown",
      "metadata": {
        "id": "6DBvri4j4cBe",
        "colab_type": "text"
      },
      "source": [
        "Create Checkpoints in the Model History"
      ]
    },
    {
      "cell_type": "markdown",
      "metadata": {
        "id": "vXZ39itcXh_L",
        "colab_type": "text"
      },
      "source": [
        ">Import keras modules: \n",
        "* to stop training when a monitored quantity has stopped improving\n",
        "* to save the model after every epoch\n",
        "* to reduce learning rate when a metric has stopped improving\n"
      ]
    },
    {
      "cell_type": "code",
      "metadata": {
        "id": "NbxJvCjgYCZU",
        "colab_type": "code",
        "colab": {}
      },
      "source": [
        "# creating callback checkpoints\n",
        "f_path = './models/'\n",
        "my_callbacks = [\n",
        "    EarlyStopping(patience=4, verbose=1),\n",
        "    ReduceLROnPlateau(factor=0.1, patience=3, min_lr=0.00001, verbose=1),\n",
        "    ModelCheckpoint(filepath = f_path + 'p3_model.h5', \n",
        "    verbose=1, save_best_only=True, save_weights_only=False) \n",
        "    ]"
      ],
      "execution_count": 0,
      "outputs": []
    },
    {
      "cell_type": "code",
      "metadata": {
        "id": "-LZi8FlkR0yU",
        "colab_type": "code",
        "colab": {
          "base_uri": "https://localhost:8080/",
          "height": 638
        },
        "outputId": "61ac5ec1-20b3-48c9-e7ce-4b8a8ca43ae5"
      },
      "source": [
        "# training and evaluating the model\n",
        "# using the callback in the `model.fit`\n",
        "history = model.fit_generator(train_generator,  \n",
        "                              steps_per_epoch=100, \n",
        "                              epochs=30, \n",
        "                              validation_data=validation_generator, \n",
        "                              validation_steps=50, \n",
        "                              callbacks = my_callbacks)"
      ],
      "execution_count": 134,
      "outputs": [
        {
          "output_type": "stream",
          "text": [
            "Epoch 1/30\n",
            "100/100 [==============================] - 29s 286ms/step - loss: 0.1055 - acc: 0.9549 - val_loss: 0.4177 - val_acc: 0.8750\n",
            "\n",
            "Epoch 00001: val_loss improved from 0.47305 to 0.41770, saving model to ./models/p3_model.h5\n",
            "Epoch 2/30\n",
            "100/100 [==============================] - 27s 273ms/step - loss: 0.1137 - acc: 0.9565 - val_loss: 0.8134 - val_acc: 0.6875\n",
            "\n",
            "Epoch 00002: val_loss did not improve from 0.41770\n",
            "Epoch 3/30\n",
            "100/100 [==============================] - 27s 268ms/step - loss: 0.1062 - acc: 0.9650 - val_loss: 0.6328 - val_acc: 0.7500\n",
            "\n",
            "Epoch 00003: val_loss did not improve from 0.41770\n",
            "Epoch 4/30\n",
            "100/100 [==============================] - 27s 273ms/step - loss: 0.0830 - acc: 0.9660 - val_loss: 0.2294 - val_acc: 0.9375\n",
            "\n",
            "Epoch 00004: val_loss improved from 0.41770 to 0.22935, saving model to ./models/p3_model.h5\n",
            "Epoch 5/30\n",
            "100/100 [==============================] - 27s 273ms/step - loss: 0.1010 - acc: 0.9645 - val_loss: 0.6816 - val_acc: 0.6875\n",
            "\n",
            "Epoch 00005: val_loss did not improve from 0.22935\n",
            "Epoch 6/30\n",
            "100/100 [==============================] - 27s 273ms/step - loss: 0.0808 - acc: 0.9694 - val_loss: 0.5833 - val_acc: 0.8125\n",
            "\n",
            "Epoch 00006: val_loss did not improve from 0.22935\n",
            "Epoch 7/30\n",
            "100/100 [==============================] - 28s 279ms/step - loss: 0.0767 - acc: 0.9724 - val_loss: 0.2926 - val_acc: 0.8750\n",
            "\n",
            "Epoch 00007: ReduceLROnPlateau reducing learning rate to 1e-05.\n",
            "\n",
            "Epoch 00007: val_loss did not improve from 0.22935\n",
            "Epoch 8/30\n",
            "100/100 [==============================] - 27s 269ms/step - loss: 0.0604 - acc: 0.9790 - val_loss: 0.6818 - val_acc: 0.7500\n",
            "\n",
            "Epoch 00008: val_loss did not improve from 0.22935\n",
            "Epoch 00008: early stopping\n"
          ],
          "name": "stdout"
        }
      ]
    },
    {
      "cell_type": "code",
      "metadata": {
        "id": "YhKNQ3EAmPk8",
        "colab_type": "code",
        "colab": {
          "base_uri": "https://localhost:8080/",
          "height": 550
        },
        "outputId": "0007f204-24a0-4c2e-d813-d778636a8337"
      },
      "source": [
        "model.summary()"
      ],
      "execution_count": 135,
      "outputs": [
        {
          "output_type": "stream",
          "text": [
            "Model: \"sequential_2\"\n",
            "_________________________________________________________________\n",
            "Layer (type)                 Output Shape              Param #   \n",
            "=================================================================\n",
            "conv2d_5 (Conv2D)            (None, 148, 148, 32)      896       \n",
            "_________________________________________________________________\n",
            "max_pooling2d_5 (MaxPooling2 (None, 74, 74, 32)        0         \n",
            "_________________________________________________________________\n",
            "conv2d_6 (Conv2D)            (None, 72, 72, 64)        18496     \n",
            "_________________________________________________________________\n",
            "max_pooling2d_6 (MaxPooling2 (None, 36, 36, 64)        0         \n",
            "_________________________________________________________________\n",
            "conv2d_7 (Conv2D)            (None, 34, 34, 128)       73856     \n",
            "_________________________________________________________________\n",
            "max_pooling2d_7 (MaxPooling2 (None, 17, 17, 128)       0         \n",
            "_________________________________________________________________\n",
            "conv2d_8 (Conv2D)            (None, 15, 15, 128)       147584    \n",
            "_________________________________________________________________\n",
            "max_pooling2d_8 (MaxPooling2 (None, 7, 7, 128)         0         \n",
            "_________________________________________________________________\n",
            "flatten_2 (Flatten)          (None, 6272)              0         \n",
            "_________________________________________________________________\n",
            "dense_3 (Dense)              (None, 512)               3211776   \n",
            "_________________________________________________________________\n",
            "dense_4 (Dense)              (None, 1)                 513       \n",
            "=================================================================\n",
            "Total params: 3,453,121\n",
            "Trainable params: 3,453,121\n",
            "Non-trainable params: 0\n",
            "_________________________________________________________________\n"
          ],
          "name": "stdout"
        }
      ]
    },
    {
      "cell_type": "markdown",
      "metadata": {
        "id": "dmByc2lhc8U7",
        "colab_type": "text"
      },
      "source": [
        "__Visualize Training Results__"
      ]
    },
    {
      "cell_type": "code",
      "metadata": {
        "id": "SeMmPbp0SyPy",
        "colab_type": "code",
        "colab": {
          "base_uri": "https://localhost:8080/",
          "height": 544
        },
        "outputId": "46dddc76-e767-4bf8-efa0-759d5ba7c09a"
      },
      "source": [
        "import matplotlib.pyplot as plt\n",
        "%matplotlib inline \n",
        "acc = history.history['acc']\n",
        "val_acc = history.history['val_acc']\n",
        "loss = history.history['loss']\n",
        "val_loss = history.history['val_loss']\n",
        "epochs = range(len(acc))\n",
        "plt.plot(epochs, acc, 'bo', label='Training acc')\n",
        "plt.plot(epochs, val_acc, 'b', label='Validation acc')\n",
        "plt.title('Training and validation accuracy along epochs')\n",
        "plt.legend()\n",
        "plt.figure()\n",
        "plt.plot(epochs, loss, 'bo', label='Training loss')\n",
        "plt.plot(epochs, val_loss, 'b', label='Validation loss')\n",
        "plt.title('Training and validation loss along epochs')\n",
        "plt.legend()\n",
        "plt.show()"
      ],
      "execution_count": 136,
      "outputs": [
        {
          "output_type": "display_data",
          "data": {
            "image/png": "[encoded data removed]",
            "text/plain": [
              "<Figure size 432x288 with 1 Axes>"
            ]
          },
          "metadata": {
            "tags": [],
            "needs_background": "light"
          }
        },
        {
          "output_type": "display_data",
          "data": {
            "image/png": "[encoded data removed]",
            "text/plain": [
              "<Figure size 432x288 with 1 Axes>"
            ]
          },
          "metadata": {
            "tags": [],
            "needs_background": "light"
          }
        }
      ]
    },
    {
      "cell_type": "code",
      "metadata": {
        "id": "RU1pfs93ehJX",
        "colab_type": "code",
        "colab": {}
      },
      "source": [
        "# download the model\n",
        "files.download('./models/p3_model.h5')"
      ],
      "execution_count": 0,
      "outputs": []
    },
    {
      "cell_type": "code",
      "metadata": {
        "colab_type": "code",
        "id": "mBERJgt0xqSw",
        "colab": {
          "base_uri": "https://localhost:8080/",
          "height": 52
        },
        "outputId": "31146c65-3e51-4f18-c73b-f04e93149d79"
      },
      "source": [
        "val_loss, val_acc = model.evaluate_generator(validation_generator, steps=50)\n",
        "\n",
        "print('val loss:', val_loss)\n",
        "print('val acc:', val_acc)"
      ],
      "execution_count": 139,
      "outputs": [
        {
          "output_type": "stream",
          "text": [
            "val loss: 0.6817939281463623\n",
            "val acc: 0.75\n"
          ],
          "name": "stdout"
        }
      ]
    },
    {
      "cell_type": "markdown",
      "metadata": {
        "id": "UyYtK3LYaYnj",
        "colab_type": "text"
      },
      "source": [
        "### Data Augmentation"
      ]
    },
    {
      "cell_type": "code",
      "metadata": {
        "id": "Z5tL4QSMm1vy",
        "colab_type": "code",
        "colab": {
          "base_uri": "https://localhost:8080/",
          "height": 425
        },
        "outputId": "b7253314-34dd-47ba-9f98-073bfdd55361"
      },
      "source": [
        "# generating transformed data\n",
        "train_datagen = ImageDataGenerator(rotation_range=40, \n",
        "                                   width_shift_range=0.2, \n",
        "                                   height_shift_range=0.2, \n",
        "                                   shear_range=0.2, \n",
        "                                   zoom_range=0.2, \n",
        "                                   horizontal_flip=True, \n",
        "                                   fill_mode='nearest')\n",
        "\n",
        "test_datagen = ImageDataGenerator(rescale=1./255)\n",
        "\n",
        "train_generator = train_datagen.flow_from_directory(\n",
        "        # This is the target directory\n",
        "        train_dir,\n",
        "        # All images will be resized to 150x150\n",
        "        target_size=(150, 150),\n",
        "        batch_size=32,\n",
        "        # Since we use binary_crossentropy loss, we need binary labels\n",
        "        class_mode='binary')\n",
        "\n",
        "# transforming only image size, for validation data\n",
        "validation_generator = test_datagen.flow_from_directory(val_dir, \n",
        "                                                        target_size=(150, 150), \n",
        "                                                        batch_size=32, \n",
        "                                                        class_mode='binary')\n",
        "\n",
        "# fitting a model to training set including transformations\n",
        "history = model.fit_generator(train_generator, \n",
        "                              shuffle=True, \n",
        "                              steps_per_epoch=100, \n",
        "                              epochs=100, \n",
        "                              validation_data=validation_generator, \n",
        "                              validation_steps=50, \n",
        "                              callbacks = my_callbacks)"
      ],
      "execution_count": 140,
      "outputs": [
        {
          "output_type": "stream",
          "text": [
            "Found 5216 images belonging to 2 classes.\n",
            "Found 16 images belonging to 2 classes.\n",
            "Epoch 1/100\n",
            "100/100 [==============================] - 55s 550ms/step - loss: 179.4794 - acc: 0.7341 - val_loss: 0.3478 - val_acc: 0.9375\n",
            "\n",
            "Epoch 00001: val_loss did not improve from 0.22935\n",
            "Epoch 2/100\n",
            "100/100 [==============================] - 50s 502ms/step - loss: 46.8823 - acc: 0.7366 - val_loss: 0.4770 - val_acc: 0.9375\n",
            "\n",
            "Epoch 00002: val_loss did not improve from 0.22935\n",
            "Epoch 3/100\n",
            "100/100 [==============================] - 50s 504ms/step - loss: 17.4015 - acc: 0.7519 - val_loss: 0.5588 - val_acc: 0.9375\n",
            "\n",
            "Epoch 00003: val_loss did not improve from 0.22935\n",
            "Epoch 4/100\n",
            "100/100 [==============================] - 50s 495ms/step - loss: 8.6885 - acc: 0.7862 - val_loss: 0.6077 - val_acc: 0.8750\n",
            "\n",
            "Epoch 00004: val_loss did not improve from 0.22935\n",
            "Epoch 5/100\n",
            "100/100 [==============================] - 50s 499ms/step - loss: 5.5745 - acc: 0.7831 - val_loss: 0.6328 - val_acc: 0.6250\n",
            "\n",
            "Epoch 00005: val_loss did not improve from 0.22935\n",
            "Epoch 00005: early stopping\n"
          ],
          "name": "stdout"
        }
      ]
    },
    {
      "cell_type": "code",
      "metadata": {
        "id": "BPIqco9yq_Dc",
        "colab_type": "code",
        "colab": {
          "base_uri": "https://localhost:8080/",
          "height": 52
        },
        "outputId": "81bf83f0-c9a0-42cf-edd7-890442e6fd5a"
      },
      "source": [
        "val_loss, val_acc = model.evaluate_generator(validation_generator, steps=50)\n",
        "\n",
        "print('val loss:', val_loss)\n",
        "print('val acc:', val_acc)"
      ],
      "execution_count": 141,
      "outputs": [
        {
          "output_type": "stream",
          "text": [
            "val loss: 0.632760763168335\n",
            "val acc: 0.625\n"
          ],
          "name": "stdout"
        }
      ]
    },
    {
      "cell_type": "markdown",
      "metadata": {
        "id": "D6OK5r8PK62v",
        "colab_type": "text"
      },
      "source": [
        "> No significant change"
      ]
    },
    {
      "cell_type": "code",
      "metadata": {
        "id": "NFTpk3hzooq9",
        "colab_type": "code",
        "colab": {
          "base_uri": "https://localhost:8080/",
          "height": 544
        },
        "outputId": "e50ad410-d77e-40b8-e4d6-7c9380cb257d"
      },
      "source": [
        "acc = history.history['acc']\n",
        "val_acc = history.history['val_acc']\n",
        "loss = history.history['loss']\n",
        "val_loss = history.history['val_loss']\n",
        "epochs = range(len(acc))\n",
        "plt.plot(epochs, acc, 'bo', label='Training acc')\n",
        "plt.plot(epochs, val_acc, 'b', label='Validation acc')\n",
        "plt.title('Training and validation accuracy along epochs')\n",
        "plt.legend()\n",
        "plt.figure()\n",
        "plt.plot(epochs, loss, 'bo', label='Training loss')\n",
        "plt.plot(epochs, val_loss, 'b', label='Validation loss')\n",
        "plt.title('Training and validation loss along epochs')\n",
        "plt.legend()\n",
        "plt.show()"
      ],
      "execution_count": 142,
      "outputs": [
        {
          "output_type": "display_data",
          "data": {
            "image/png": "[encoded data removed]",
            "text/plain": [
              "<Figure size 432x288 with 1 Axes>"
            ]
          },
          "metadata": {
            "tags": [],
            "needs_background": "light"
          }
        },
        {
          "output_type": "display_data",
          "data": {
            "image/png": "[encoded data removed]",
            "text/plain": [
              "<Figure size 432x288 with 1 Axes>"
            ]
          },
          "metadata": {
            "tags": [],
            "needs_background": "light"
          }
        }
      ]
    },
    {
      "cell_type": "code",
      "metadata": {
        "id": "0r6nhlrppA6O",
        "colab_type": "code",
        "colab": {
          "base_uri": "https://localhost:8080/",
          "height": 550
        },
        "outputId": "5f7ef1b6-6000-4d6b-90f4-0fc9c7ff268e"
      },
      "source": [
        "# download the model\n",
        "files.download('./models/p3_model.h5')\n",
        "\n",
        "# summarize the model\n",
        "model.summary()"
      ],
      "execution_count": 143,
      "outputs": [
        {
          "output_type": "stream",
          "text": [
            "Model: \"sequential_2\"\n",
            "_________________________________________________________________\n",
            "Layer (type)                 Output Shape              Param #   \n",
            "=================================================================\n",
            "conv2d_5 (Conv2D)            (None, 148, 148, 32)      896       \n",
            "_________________________________________________________________\n",
            "max_pooling2d_5 (MaxPooling2 (None, 74, 74, 32)        0         \n",
            "_________________________________________________________________\n",
            "conv2d_6 (Conv2D)            (None, 72, 72, 64)        18496     \n",
            "_________________________________________________________________\n",
            "max_pooling2d_6 (MaxPooling2 (None, 36, 36, 64)        0         \n",
            "_________________________________________________________________\n",
            "conv2d_7 (Conv2D)            (None, 34, 34, 128)       73856     \n",
            "_________________________________________________________________\n",
            "max_pooling2d_7 (MaxPooling2 (None, 17, 17, 128)       0         \n",
            "_________________________________________________________________\n",
            "conv2d_8 (Conv2D)            (None, 15, 15, 128)       147584    \n",
            "_________________________________________________________________\n",
            "max_pooling2d_8 (MaxPooling2 (None, 7, 7, 128)         0         \n",
            "_________________________________________________________________\n",
            "flatten_2 (Flatten)          (None, 6272)              0         \n",
            "_________________________________________________________________\n",
            "dense_3 (Dense)              (None, 512)               3211776   \n",
            "_________________________________________________________________\n",
            "dense_4 (Dense)              (None, 1)                 513       \n",
            "=================================================================\n",
            "Total params: 3,453,121\n",
            "Trainable params: 3,453,121\n",
            "Non-trainable params: 0\n",
            "_________________________________________________________________\n"
          ],
          "name": "stdout"
        }
      ]
    },
    {
      "cell_type": "markdown",
      "metadata": {
        "id": "WG_hrT5pYsjl",
        "colab_type": "text"
      },
      "source": [
        "__Plot Confusion Matrix__"
      ]
    },
    {
      "cell_type": "markdown",
      "metadata": {
        "id": "yLeTqNEmusoi",
        "colab_type": "text"
      },
      "source": [
        "### Evaluate Model 1 on Test Data"
      ]
    },
    {
      "cell_type": "code",
      "metadata": {
        "id": "K1dtUOwrr7Bv",
        "colab_type": "code",
        "colab": {
          "base_uri": "https://localhost:8080/",
          "height": 70
        },
        "outputId": "ea0dce8c-628f-429f-a33b-a009d313c68f"
      },
      "source": [
        "test_generator = test_datagen.flow_from_directory(test_dir, \n",
        "                                                  target_size=(150, 150), \n",
        "                                                  batch_size=20, \n",
        "                                                  class_mode='binary')\n",
        "\n",
        "test_loss, test_acc = model.evaluate_generator(test_generator, steps=50)\n",
        "\n",
        "print('test loss:', test_loss)\n",
        "print('test acc:', test_acc)"
      ],
      "execution_count": 144,
      "outputs": [
        {
          "output_type": "stream",
          "text": [
            "Found 624 images belonging to 2 classes.\n",
            "test loss: 0.6136231422424316\n",
            "test acc: 0.7205284833908081\n"
          ],
          "name": "stdout"
        }
      ]
    },
    {
      "cell_type": "markdown",
      "metadata": {
        "id": "ZEJuRK7kb3Ra",
        "colab_type": "text"
      },
      "source": [
        "> So the first model, with augmentation, has achieved __84.65\\%__ accuracy predicting the class ('normal' or 'pneumonia' of our test set."
      ]
    },
    {
      "cell_type": "code",
      "metadata": {
        "id": "C8z2YI8iqdTk",
        "colab_type": "code",
        "colab": {
          "base_uri": "https://localhost:8080/",
          "height": 176
        },
        "outputId": "52ba9663-c1e8-4daa-fc4b-48cfc2645306"
      },
      "source": [
        "# viewing classification report\n",
        "# from sklearn.metrics import confusion_matrix, classification_report\n",
        "print(classification_report(y_true, y_pred, labels=[0,1]))"
      ],
      "execution_count": 145,
      "outputs": [
        {
          "output_type": "stream",
          "text": [
            "              precision    recall  f1-score   support\n",
            "\n",
            "           0       0.38      1.00      0.55       234\n",
            "           1       0.00      0.00      0.00       390\n",
            "\n",
            "    accuracy                           0.38       624\n",
            "   macro avg       0.19      0.50      0.27       624\n",
            "weighted avg       0.14      0.38      0.20       624\n",
            "\n"
          ],
          "name": "stdout"
        }
      ]
    },
    {
      "cell_type": "markdown",
      "metadata": {
        "id": "8DyMGYPZr_63",
        "colab_type": "text"
      },
      "source": [
        ">That does not look right--it doesn't appear to reflect the model's test accuracy of ~85\\%, as reported earlier."
      ]
    },
    {
      "cell_type": "code",
      "metadata": {
        "id": "_Nz_eH6wYq1r",
        "colab_type": "code",
        "colab": {}
      },
      "source": [
        "# from sklearn.metrics import confusion_matrix\n",
        "# instantiate variables for true and predicted arrays\n",
        "y_true=test_generator.classes\n",
        "\n",
        "y_pred = model.predict_generator(test_generator)\n",
        "y_pred = np.argmax(y_pred,axis = 1)"
      ],
      "execution_count": 0,
      "outputs": []
    },
    {
      "cell_type": "markdown",
      "metadata": {
        "id": "eHKuaQhl2CWT",
        "colab_type": "text"
      },
      "source": [
        "Create a function to measure performance"
      ]
    },
    {
      "cell_type": "code",
      "metadata": {
        "id": "bMQxADGomPZn",
        "colab_type": "code",
        "colab": {}
      },
      "source": [
        "def perf_measure(y_true, y_pred):\n",
        "    \"\"\"\n",
        "    Takes 'actual' and 'predicted' labels and returns the number of\n",
        "    true negative, true positive, false negative, and false positive\n",
        "    predictions\n",
        "    \"\"\"\n",
        "    TN = CM[0][0]\n",
        "    TP = CM[1][1]\n",
        "    FN = CM[1][0]\n",
        "    FP = CM[0][1]\n",
        "\n",
        "    print(f\"TN = {TN}\\nTP = {TP}\\nFN = {FN}\\nFP = {FP}\\n\")\n",
        "\n",
        "    return(TN, TP, FN, FP)"
      ],
      "execution_count": 0,
      "outputs": []
    },
    {
      "cell_type": "code",
      "metadata": {
        "id": "O_t3JQ05mTfh",
        "colab_type": "code",
        "colab": {
          "base_uri": "https://localhost:8080/",
          "height": 123
        },
        "outputId": "5f584a90-5c3d-4616-907b-f55d2d8243a1"
      },
      "source": [
        "#viewing performance measures\n",
        "perf_measure(y_true, y_pred)"
      ],
      "execution_count": 148,
      "outputs": [
        {
          "output_type": "stream",
          "text": [
            "TN = 234\n",
            "TP = 0\n",
            "FN = 390\n",
            "FP = 0\n",
            "\n"
          ],
          "name": "stdout"
        },
        {
          "output_type": "execute_result",
          "data": {
            "text/plain": [
              "(234, 0, 390, 0)"
            ]
          },
          "metadata": {
            "tags": []
          },
          "execution_count": 148
        }
      ]
    },
    {
      "cell_type": "markdown",
      "metadata": {
        "id": "FOShgme8ZhRm",
        "colab_type": "text"
      },
      "source": [
        "This report is not ideal:\n",
        ">* True Negatives (pred 0, true 0: the number of patients correctly predicted to not to have pneumonia: 234\n",
        "* True Postives (pred 1, true 1: the number of patients correctly predicted to have pneumonia: 0\n",
        "* False Negatives (pred 0, true 1: the number of patients falsely predicted to not to have pneumonia: 390\n",
        "* False Positives (pred 1, true 0: the number of patients falsely predicted to have pneumonia: **0**\n",
        "\n",
        ">False positives would be preferred over false negatives.\n",
        "* Where false positives could unnecessarily result in additional testing, false negatives could result in failure to treat patients that require treatment.\n",
        "* The sklearn report indicates that the model simply considered all samples to be `NORMAL`.\n",
        "* If that is the case, why does Keras report the model as being nearly 85% accurate, when sklearn suggests that the model was only correct 37.5\\% of the time?"
      ]
    },
    {
      "cell_type": "code",
      "metadata": {
        "id": "2pjLi_vA6Ktx",
        "colab_type": "code",
        "colab": {}
      },
      "source": [
        "# from mlxtend.plotting import plot_confusion_matrix"
      ],
      "execution_count": 0,
      "outputs": []
    },
    {
      "cell_type": "code",
      "metadata": {
        "id": "Jrxj6ugciKw2",
        "colab_type": "code",
        "colab": {
          "base_uri": "https://localhost:8080/",
          "height": 532
        },
        "outputId": "3be3409a-8e04-4385-e844-d9462e6131a1"
      },
      "source": [
        "labels = [0,1]\n",
        "CM = confusion_matrix(y_true, y_pred, labels)\n",
        "\n",
        "fig, ax = plot_confusion_matrix(conf_mat=CM , \n",
        "                                figsize=(7, 7), \n",
        "                                hide_ticks=False, \n",
        "                                cmap=plt.cm.Blues)\n",
        "\n",
        "ax.set_xticklabels([''] + labels) \n",
        "ax.set_yticklabels([''] + labels) \n",
        "print(CM) \n",
        "\n",
        "plt.title(\"\\nConfusion Matrix for Augmented Model 1\", \n",
        "          fontsize=15)\n",
        "fig.savefig(\"aug_model_1_CM\", dpi=100)\n",
        "plt.show()"
      ],
      "execution_count": 150,
      "outputs": [
        {
          "output_type": "stream",
          "text": [
            "[[234   0]\n",
            " [390   0]]\n"
          ],
          "name": "stdout"
        },
        {
          "output_type": "display_data",
          "data": {
            "image/png": "[encoded data removed]",
            "text/plain": [
              "<Figure size 504x504 with 1 Axes>"
            ]
          },
          "metadata": {
            "tags": [],
            "needs_background": "light"
          }
        }
      ]
    },
    {
      "cell_type": "markdown",
      "metadata": {
        "id": "ydQNf-UF4RxE",
        "colab_type": "text"
      },
      "source": [
        "## Model 2"
      ]
    },
    {
      "cell_type": "markdown",
      "metadata": {
        "id": "4nAIoozX5lGW",
        "colab_type": "text"
      },
      "source": [
        "* add padding to input layer\n",
        "* add dropout layers after each pooling layer"
      ]
    },
    {
      "cell_type": "code",
      "metadata": {
        "colab_type": "code",
        "id": "RtjG0-E34S4W",
        "colab": {}
      },
      "source": [
        "# building the a 2nd CNN model\n",
        "model_2 = models.Sequential()\n",
        "model_2.add(layers.Conv2D(32, (3, 3), activation='relu', padding=\"same\",\n",
        "                        input_shape=(150, 150, 3)))\n",
        "model_2.add(layers.MaxPooling2D((2, 2)))\n",
        "model_2.add(Dropout(0.25))\n",
        "model_2.add(layers.Conv2D(64, (3, 3), activation='relu'))\n",
        "model_2.add(layers.MaxPooling2D((2, 2)))\n",
        "model.add(Dropout(0.25))\n",
        "model_2.add(layers.Conv2D(128, (3, 3), activation='relu'))\n",
        "model_2.add(layers.MaxPooling2D((2, 2)))\n",
        "model_2.add(Dropout(0.25))\n",
        "model_2.add(layers.Conv2D(128, (3, 3), activation='relu'))\n",
        "model_2.add(layers.MaxPooling2D((2, 2)))\n",
        "model_2.add(Dropout(0.25))\n",
        "model_2.add(layers.Flatten() )# converts 3D feature maps to 1D vectors\n",
        "model_2.add(Dense(64))\n",
        "model_2.add(Activation('relu'))\n",
        "model_2.add(layers.Dense(512, activation='relu'))\n",
        "model_2.add(layers.Dense(1, activation='sigmoid'))"
      ],
      "execution_count": 0,
      "outputs": []
    },
    {
      "cell_type": "markdown",
      "metadata": {
        "id": "EBhud55m7u4F",
        "colab_type": "text"
      },
      "source": [
        "* Change the optimizer to `Adam`\n",
        "* use 'accuracy' metrics"
      ]
    },
    {
      "cell_type": "code",
      "metadata": {
        "colab_type": "code",
        "id": "WQb6HiK94S4d",
        "colab": {}
      },
      "source": [
        "# compiling the model\n",
        "model_2.compile(loss='binary_crossentropy',\n",
        "              optimizer=optimizers.Adam(lr=1e-4),\n",
        "              metrics=['acc'])"
      ],
      "execution_count": 0,
      "outputs": []
    },
    {
      "cell_type": "code",
      "metadata": {
        "colab_type": "code",
        "id": "jOCQ7z2p4S4h",
        "colab": {}
      },
      "source": [
        "# importing keras modules\n",
        "# from keras.callbacks import EarlyStopping\n",
        "# from keras.callbacks import ModelCheckpoint\n",
        "# from keras.callbacks import ReduceLROnPlateau"
      ],
      "execution_count": 0,
      "outputs": []
    },
    {
      "cell_type": "code",
      "metadata": {
        "colab_type": "code",
        "id": "fyLTugP64S4l",
        "colab": {}
      },
      "source": [
        "# creating callback checkpoints\n",
        "f_path = './models/'\n",
        "my_callbacks = [\n",
        "    EarlyStopping(patience=4, verbose=1),\n",
        "    ReduceLROnPlateau(factor=0.1, patience=3, min_lr=0.00001, verbose=1),\n",
        "    ModelCheckpoint(filepath = f_path + 'p3_model_2.h5', \n",
        "    verbose=1, save_best_only=True, save_weights_only=False) \n",
        "    ]"
      ],
      "execution_count": 0,
      "outputs": []
    },
    {
      "cell_type": "code",
      "metadata": {
        "colab_type": "code",
        "id": "F7vQOzi04S4n",
        "colab": {
          "base_uri": "https://localhost:8080/",
          "height": 425
        },
        "outputId": "67f5b720-e616-43f0-d09a-152f5ca6d175"
      },
      "source": [
        "# training and evaluating the model\n",
        "# using the callback in the `model.fit`\n",
        "history_2 = model_2.fit_generator(train_generator, \n",
        "                              steps_per_epoch=100, \n",
        "                              epochs=30, \n",
        "                              validation_data=validation_generator, \n",
        "                              validation_steps=50, \n",
        "                              callbacks = my_callbacks)"
      ],
      "execution_count": 155,
      "outputs": [
        {
          "output_type": "stream",
          "text": [
            "Epoch 1/30\n",
            "100/100 [==============================] - 55s 546ms/step - loss: 1.4013 - acc: 0.6662 - val_loss: 0.6932 - val_acc: 0.5000\n",
            "\n",
            "Epoch 00001: val_loss improved from inf to 0.69316, saving model to ./models/p3_model_2.h5\n",
            "Epoch 2/30\n",
            "100/100 [==============================] - 49s 494ms/step - loss: 0.5912 - acc: 0.7412 - val_loss: 0.6932 - val_acc: 0.5000\n",
            "\n",
            "Epoch 00002: val_loss did not improve from 0.69316\n",
            "Epoch 3/30\n",
            "100/100 [==============================] - 50s 502ms/step - loss: 0.6058 - acc: 0.7272 - val_loss: 0.6933 - val_acc: 0.5000\n",
            "\n",
            "Epoch 00003: val_loss did not improve from 0.69316\n",
            "Epoch 4/30\n",
            "100/100 [==============================] - 49s 494ms/step - loss: 0.5988 - acc: 0.7366 - val_loss: 0.6934 - val_acc: 0.5000\n",
            "\n",
            "Epoch 00004: ReduceLROnPlateau reducing learning rate to 1e-05.\n",
            "\n",
            "Epoch 00004: val_loss did not improve from 0.69316\n",
            "Epoch 5/30\n",
            "100/100 [==============================] - 50s 500ms/step - loss: 0.5919 - acc: 0.7341 - val_loss: 0.6934 - val_acc: 0.5000\n",
            "\n",
            "Epoch 00005: val_loss did not improve from 0.69316\n",
            "Epoch 00005: early stopping\n"
          ],
          "name": "stdout"
        }
      ]
    },
    {
      "cell_type": "code",
      "metadata": {
        "colab_type": "code",
        "id": "7vrWLCeJ4S4s",
        "colab": {
          "base_uri": "https://localhost:8080/",
          "height": 727
        },
        "outputId": "8ecf744a-dbd2-427c-8365-08c1596f08a5"
      },
      "source": [
        "model_2.summary()"
      ],
      "execution_count": 156,
      "outputs": [
        {
          "output_type": "stream",
          "text": [
            "Model: \"sequential_3\"\n",
            "_________________________________________________________________\n",
            "Layer (type)                 Output Shape              Param #   \n",
            "=================================================================\n",
            "conv2d_9 (Conv2D)            (None, 150, 150, 32)      896       \n",
            "_________________________________________________________________\n",
            "max_pooling2d_9 (MaxPooling2 (None, 75, 75, 32)        0         \n",
            "_________________________________________________________________\n",
            "dropout_1 (Dropout)          (None, 75, 75, 32)        0         \n",
            "_________________________________________________________________\n",
            "conv2d_10 (Conv2D)           (None, 73, 73, 64)        18496     \n",
            "_________________________________________________________________\n",
            "max_pooling2d_10 (MaxPooling (None, 36, 36, 64)        0         \n",
            "_________________________________________________________________\n",
            "conv2d_11 (Conv2D)           (None, 34, 34, 128)       73856     \n",
            "_________________________________________________________________\n",
            "max_pooling2d_11 (MaxPooling (None, 17, 17, 128)       0         \n",
            "_________________________________________________________________\n",
            "dropout_3 (Dropout)          (None, 17, 17, 128)       0         \n",
            "_________________________________________________________________\n",
            "conv2d_12 (Conv2D)           (None, 15, 15, 128)       147584    \n",
            "_________________________________________________________________\n",
            "max_pooling2d_12 (MaxPooling (None, 7, 7, 128)         0         \n",
            "_________________________________________________________________\n",
            "dropout_4 (Dropout)          (None, 7, 7, 128)         0         \n",
            "_________________________________________________________________\n",
            "flatten_3 (Flatten)          (None, 6272)              0         \n",
            "_________________________________________________________________\n",
            "dense_5 (Dense)              (None, 64)                401472    \n",
            "_________________________________________________________________\n",
            "activation_1 (Activation)    (None, 64)                0         \n",
            "_________________________________________________________________\n",
            "dense_6 (Dense)              (None, 512)               33280     \n",
            "_________________________________________________________________\n",
            "dense_7 (Dense)              (None, 1)                 513       \n",
            "=================================================================\n",
            "Total params: 676,097\n",
            "Trainable params: 676,097\n",
            "Non-trainable params: 0\n",
            "_________________________________________________________________\n"
          ],
          "name": "stdout"
        }
      ]
    },
    {
      "cell_type": "markdown",
      "metadata": {
        "colab_type": "text",
        "id": "opO480q14S4t"
      },
      "source": [
        "__Visualize Training Results__"
      ]
    },
    {
      "cell_type": "code",
      "metadata": {
        "colab_type": "code",
        "id": "Jpj-X33v4S4u",
        "colab": {
          "base_uri": "https://localhost:8080/",
          "height": 544
        },
        "outputId": "00bb5a3d-63fc-4712-f737-c8c565a7f52f"
      },
      "source": [
        "import matplotlib.pyplot as plt\n",
        "%matplotlib inline \n",
        "acc = history_2.history['acc']\n",
        "val_acc = history_2.history['val_acc']\n",
        "loss = history_2.history['loss']\n",
        "val_loss = history_2.history['val_loss']\n",
        "epochs = range(len(acc))\n",
        "plt.plot(epochs, acc, 'bo', label='Training acc')\n",
        "plt.plot(epochs, val_acc, 'b', label='Validation acc')\n",
        "plt.title('Training and validation accuracy along epochs')\n",
        "plt.legend()\n",
        "\n",
        "plt.figure()\n",
        "plt.plot(epochs, loss, 'bo', label='Training loss')\n",
        "plt.plot(epochs, val_loss, 'b', label='Validation loss')\n",
        "plt.title('Training and validation loss along epochs')\n",
        "plt.legend()\n",
        "plt.show()"
      ],
      "execution_count": 157,
      "outputs": [
        {
          "output_type": "display_data",
          "data": {
            "image/png": "[encoded data removed]",
            "text/plain": [
              "<Figure size 432x288 with 1 Axes>"
            ]
          },
          "metadata": {
            "tags": [],
            "needs_background": "light"
          }
        },
        {
          "output_type": "display_data",
          "data": {
            "image/png": "[encoded data removed]",
            "text/plain": [
              "<Figure size 432x288 with 1 Axes>"
            ]
          },
          "metadata": {
            "tags": [],
            "needs_background": "light"
          }
        }
      ]
    },
    {
      "cell_type": "code",
      "metadata": {
        "colab_type": "code",
        "id": "eOqUJwtm4S4p",
        "colab": {}
      },
      "source": [
        "# download the model\n",
        "files.download('./models/p3_model_2.h5')"
      ],
      "execution_count": 0,
      "outputs": []
    },
    {
      "cell_type": "code",
      "metadata": {
        "colab_type": "code",
        "id": "YVlHANoP4S4w",
        "colab": {
          "base_uri": "https://localhost:8080/",
          "height": 52
        },
        "outputId": "aa1d3175-da8d-434e-d402-7e6b616875b5"
      },
      "source": [
        "val_loss, val_acc = model_2.evaluate_generator(validation_generator, \n",
        "                                               steps=50)\n",
        "\n",
        "print('val loss:', val_loss)\n",
        "print('val acc:', val_acc)"
      ],
      "execution_count": 159,
      "outputs": [
        {
          "output_type": "stream",
          "text": [
            "val loss: 0.6934164762496948\n",
            "val acc: 0.5\n"
          ],
          "name": "stdout"
        }
      ]
    },
    {
      "cell_type": "markdown",
      "metadata": {
        "id": "rzujLzTqcsX6",
        "colab_type": "text"
      },
      "source": [
        "> Early stopping may have been a bit premature, for this model, as measures do not appear to have settled into a definitive trend."
      ]
    },
    {
      "cell_type": "markdown",
      "metadata": {
        "id": "dT1ddJv4Lfjo",
        "colab_type": "text"
      },
      "source": [
        "### Evaluate Model 2 on Test Data"
      ]
    },
    {
      "cell_type": "code",
      "metadata": {
        "colab_type": "code",
        "id": "yz370mOJPa3M",
        "colab": {
          "base_uri": "https://localhost:8080/",
          "height": 70
        },
        "outputId": "4d515855-1ed3-413f-e3f6-f03b85e33887"
      },
      "source": [
        "test_generator = test_datagen.flow_from_directory(test_dir, \n",
        "                                                  target_size=(150, 150), \n",
        "                                                  batch_size=20, \n",
        "                                                  class_mode='binary')\n",
        "\n",
        "test_loss, test_acc = model_2.evaluate_generator(test_generator, steps=50)\n",
        "\n",
        "print('test loss:', test_loss)\n",
        "print('test acc:', test_acc)"
      ],
      "execution_count": 160,
      "outputs": [
        {
          "output_type": "stream",
          "text": [
            "Found 624 images belonging to 2 classes.\n",
            "test loss: 0.6842027902603149\n",
            "test acc: 0.6209349632263184\n"
          ],
          "name": "stdout"
        }
      ]
    },
    {
      "cell_type": "markdown",
      "metadata": {
        "colab_type": "text",
        "id": "4m1u_4-adGjj"
      },
      "source": [
        ">The second model performed poorly."
      ]
    },
    {
      "cell_type": "markdown",
      "metadata": {
        "colab_type": "text",
        "id": "oo-CiZ6tdUDy"
      },
      "source": [
        "__Plot Confusion Matrix__"
      ]
    },
    {
      "cell_type": "code",
      "metadata": {
        "colab_type": "code",
        "outputId": "3a5ad219-fd87-43b6-cd4c-18d705af9880",
        "id": "jDsvcXVA-Zgo",
        "colab": {
          "base_uri": "https://localhost:8080/",
          "height": 176
        }
      },
      "source": [
        "# viewing classification report\n",
        "# from sklearn.metrics import confusion_matrix, classification_report\n",
        "print(classification_report(y_true, y_pred, labels=[0,1]))"
      ],
      "execution_count": 161,
      "outputs": [
        {
          "output_type": "stream",
          "text": [
            "              precision    recall  f1-score   support\n",
            "\n",
            "           0       0.38      1.00      0.55       234\n",
            "           1       0.00      0.00      0.00       390\n",
            "\n",
            "    accuracy                           0.38       624\n",
            "   macro avg       0.19      0.50      0.27       624\n",
            "weighted avg       0.14      0.38      0.20       624\n",
            "\n"
          ],
          "name": "stdout"
        }
      ]
    },
    {
      "cell_type": "markdown",
      "metadata": {
        "colab_type": "text",
        "id": "XsbEPpF0-Zgr"
      },
      "source": [
        ">That does not look right--it doesn't appear to reflect the model's test accuracy of ~85\\%, as reported earlier."
      ]
    },
    {
      "cell_type": "code",
      "metadata": {
        "colab_type": "code",
        "id": "__qJDOqA-Zgs",
        "colab": {}
      },
      "source": [
        "# from sklearn.metrics import confusion_matrix\n",
        "# instantiate variables for true and predicted arrays\n",
        "y_true=test_generator.classes\n",
        "\n",
        "y_pred = model_2.predict_generator(test_generator)\n",
        "y_pred = np.argmax(y_pred,axis = 1)"
      ],
      "execution_count": 0,
      "outputs": []
    },
    {
      "cell_type": "markdown",
      "metadata": {
        "colab_type": "text",
        "id": "sZDrJWGN-Zgt"
      },
      "source": [
        "Call on the custom function to measure performance"
      ]
    },
    {
      "cell_type": "code",
      "metadata": {
        "colab_type": "code",
        "outputId": "ac66caa8-326c-4aea-b44d-4d027357c529",
        "id": "QSuKk0T6-Zgw",
        "colab": {
          "base_uri": "https://localhost:8080/",
          "height": 123
        }
      },
      "source": [
        "#viewing performance measures\n",
        "perf_measure(y_true, y_pred)"
      ],
      "execution_count": 163,
      "outputs": [
        {
          "output_type": "stream",
          "text": [
            "TN = 234\n",
            "TP = 0\n",
            "FN = 390\n",
            "FP = 0\n",
            "\n"
          ],
          "name": "stdout"
        },
        {
          "output_type": "execute_result",
          "data": {
            "text/plain": [
              "(234, 0, 390, 0)"
            ]
          },
          "metadata": {
            "tags": []
          },
          "execution_count": 163
        }
      ]
    },
    {
      "cell_type": "markdown",
      "metadata": {
        "id": "E4xlizLp_dQx",
        "colab_type": "text"
      },
      "source": [
        "> Somehow, we appear to have arrived at an inferior socore with exactly the same performance measures."
      ]
    },
    {
      "cell_type": "code",
      "metadata": {
        "colab_type": "code",
        "id": "zMHInNGB-Zgy",
        "colab": {}
      },
      "source": [
        "# from mlxtend.plotting import plot_confusion_matrix"
      ],
      "execution_count": 0,
      "outputs": []
    },
    {
      "cell_type": "code",
      "metadata": {
        "colab_type": "code",
        "outputId": "3d85ce6e-772e-447f-e654-5804cd17e33d",
        "id": "mCE5j3QP-Zgz",
        "colab": {
          "base_uri": "https://localhost:8080/",
          "height": 532
        }
      },
      "source": [
        "labels = [0,1]\n",
        "CM = confusion_matrix(y_true, y_pred, labels)\n",
        "\n",
        "fig, ax = plot_confusion_matrix(conf_mat=CM , \n",
        "                                figsize=(7, 7), \n",
        "                                hide_ticks=False, \n",
        "                                cmap=plt.cm.Blues)\n",
        "\n",
        "ax.set_xticklabels([''] + labels) \n",
        "ax.set_yticklabels([''] + labels) \n",
        "print(CM) \n",
        "\n",
        "plt.title(\"\\nConfusion Matrix for Augmented Model 2\", \n",
        "          fontsize=15)\n",
        "fig.savefig(\"aug_model_2_CM\", dpi=100)\n",
        "plt.show()"
      ],
      "execution_count": 165,
      "outputs": [
        {
          "output_type": "stream",
          "text": [
            "[[234   0]\n",
            " [390   0]]\n"
          ],
          "name": "stdout"
        },
        {
          "output_type": "display_data",
          "data": {
            "image/png": "[encoded data removed]",
            "text/plain": [
              "<Figure size 504x504 with 1 Axes>"
            ]
          },
          "metadata": {
            "tags": [],
            "needs_background": "light"
          }
        }
      ]
    },
    {
      "cell_type": "code",
      "metadata": {
        "colab_type": "code",
        "id": "nq5wDuVXdUD0",
        "colab": {
          "base_uri": "https://localhost:8080/",
          "height": 621
        },
        "outputId": "c919f856-7991-4394-8ab4-74ff8f4117af"
      },
      "source": [
        "# from sklearn.metrics import confusion_matrix\n",
        "y_true=test_generator.classes\n",
        "print(y_true)\n",
        "\n",
        "y_pred = model_2.predict_generator(test_generator)\n",
        "y_pred = np.argmax(y_pred,axis = 1)\n",
        "print(y_pred)"
      ],
      "execution_count": 166,
      "outputs": [
        {
          "output_type": "stream",
          "text": [
            "[0 0 0 0 0 0 0 0 0 0 0 0 0 0 0 0 0 0 0 0 0 0 0 0 0 0 0 0 0 0 0 0 0 0 0 0 0\n",
            " 0 0 0 0 0 0 0 0 0 0 0 0 0 0 0 0 0 0 0 0 0 0 0 0 0 0 0 0 0 0 0 0 0 0 0 0 0\n",
            " 0 0 0 0 0 0 0 0 0 0 0 0 0 0 0 0 0 0 0 0 0 0 0 0 0 0 0 0 0 0 0 0 0 0 0 0 0\n",
            " 0 0 0 0 0 0 0 0 0 0 0 0 0 0 0 0 0 0 0 0 0 0 0 0 0 0 0 0 0 0 0 0 0 0 0 0 0\n",
            " 0 0 0 0 0 0 0 0 0 0 0 0 0 0 0 0 0 0 0 0 0 0 0 0 0 0 0 0 0 0 0 0 0 0 0 0 0\n",
            " 0 0 0 0 0 0 0 0 0 0 0 0 0 0 0 0 0 0 0 0 0 0 0 0 0 0 0 0 0 0 0 0 0 0 0 0 0\n",
            " 0 0 0 0 0 0 0 0 0 0 0 0 1 1 1 1 1 1 1 1 1 1 1 1 1 1 1 1 1 1 1 1 1 1 1 1 1\n",
            " 1 1 1 1 1 1 1 1 1 1 1 1 1 1 1 1 1 1 1 1 1 1 1 1 1 1 1 1 1 1 1 1 1 1 1 1 1\n",
            " 1 1 1 1 1 1 1 1 1 1 1 1 1 1 1 1 1 1 1 1 1 1 1 1 1 1 1 1 1 1 1 1 1 1 1 1 1\n",
            " 1 1 1 1 1 1 1 1 1 1 1 1 1 1 1 1 1 1 1 1 1 1 1 1 1 1 1 1 1 1 1 1 1 1 1 1 1\n",
            " 1 1 1 1 1 1 1 1 1 1 1 1 1 1 1 1 1 1 1 1 1 1 1 1 1 1 1 1 1 1 1 1 1 1 1 1 1\n",
            " 1 1 1 1 1 1 1 1 1 1 1 1 1 1 1 1 1 1 1 1 1 1 1 1 1 1 1 1 1 1 1 1 1 1 1 1 1\n",
            " 1 1 1 1 1 1 1 1 1 1 1 1 1 1 1 1 1 1 1 1 1 1 1 1 1 1 1 1 1 1 1 1 1 1 1 1 1\n",
            " 1 1 1 1 1 1 1 1 1 1 1 1 1 1 1 1 1 1 1 1 1 1 1 1 1 1 1 1 1 1 1 1 1 1 1 1 1\n",
            " 1 1 1 1 1 1 1 1 1 1 1 1 1 1 1 1 1 1 1 1 1 1 1 1 1 1 1 1 1 1 1 1 1 1 1 1 1\n",
            " 1 1 1 1 1 1 1 1 1 1 1 1 1 1 1 1 1 1 1 1 1 1 1 1 1 1 1 1 1 1 1 1 1 1 1 1 1\n",
            " 1 1 1 1 1 1 1 1 1 1 1 1 1 1 1 1 1 1 1 1 1 1 1 1 1 1 1 1 1 1 1 1]\n",
            "[0 0 0 0 0 0 0 0 0 0 0 0 0 0 0 0 0 0 0 0 0 0 0 0 0 0 0 0 0 0 0 0 0 0 0 0 0\n",
            " 0 0 0 0 0 0 0 0 0 0 0 0 0 0 0 0 0 0 0 0 0 0 0 0 0 0 0 0 0 0 0 0 0 0 0 0 0\n",
            " 0 0 0 0 0 0 0 0 0 0 0 0 0 0 0 0 0 0 0 0 0 0 0 0 0 0 0 0 0 0 0 0 0 0 0 0 0\n",
            " 0 0 0 0 0 0 0 0 0 0 0 0 0 0 0 0 0 0 0 0 0 0 0 0 0 0 0 0 0 0 0 0 0 0 0 0 0\n",
            " 0 0 0 0 0 0 0 0 0 0 0 0 0 0 0 0 0 0 0 0 0 0 0 0 0 0 0 0 0 0 0 0 0 0 0 0 0\n",
            " 0 0 0 0 0 0 0 0 0 0 0 0 0 0 0 0 0 0 0 0 0 0 0 0 0 0 0 0 0 0 0 0 0 0 0 0 0\n",
            " 0 0 0 0 0 0 0 0 0 0 0 0 0 0 0 0 0 0 0 0 0 0 0 0 0 0 0 0 0 0 0 0 0 0 0 0 0\n",
            " 0 0 0 0 0 0 0 0 0 0 0 0 0 0 0 0 0 0 0 0 0 0 0 0 0 0 0 0 0 0 0 0 0 0 0 0 0\n",
            " 0 0 0 0 0 0 0 0 0 0 0 0 0 0 0 0 0 0 0 0 0 0 0 0 0 0 0 0 0 0 0 0 0 0 0 0 0\n",
            " 0 0 0 0 0 0 0 0 0 0 0 0 0 0 0 0 0 0 0 0 0 0 0 0 0 0 0 0 0 0 0 0 0 0 0 0 0\n",
            " 0 0 0 0 0 0 0 0 0 0 0 0 0 0 0 0 0 0 0 0 0 0 0 0 0 0 0 0 0 0 0 0 0 0 0 0 0\n",
            " 0 0 0 0 0 0 0 0 0 0 0 0 0 0 0 0 0 0 0 0 0 0 0 0 0 0 0 0 0 0 0 0 0 0 0 0 0\n",
            " 0 0 0 0 0 0 0 0 0 0 0 0 0 0 0 0 0 0 0 0 0 0 0 0 0 0 0 0 0 0 0 0 0 0 0 0 0\n",
            " 0 0 0 0 0 0 0 0 0 0 0 0 0 0 0 0 0 0 0 0 0 0 0 0 0 0 0 0 0 0 0 0 0 0 0 0 0\n",
            " 0 0 0 0 0 0 0 0 0 0 0 0 0 0 0 0 0 0 0 0 0 0 0 0 0 0 0 0 0 0 0 0 0 0 0 0 0\n",
            " 0 0 0 0 0 0 0 0 0 0 0 0 0 0 0 0 0 0 0 0 0 0 0 0 0 0 0 0 0 0 0 0 0 0 0 0 0\n",
            " 0 0 0 0 0 0 0 0 0 0 0 0 0 0 0 0 0 0 0 0 0 0 0 0 0 0 0 0 0 0 0 0]\n"
          ],
          "name": "stdout"
        }
      ]
    },
    {
      "cell_type": "markdown",
      "metadata": {
        "id": "ZiryzpJxAJNG",
        "colab_type": "text"
      },
      "source": [
        ">It looks as though the training labels did not shuffle as expected."
      ]
    },
    {
      "cell_type": "markdown",
      "metadata": {
        "id": "EX50HQY_AiIo",
        "colab_type": "text"
      },
      "source": [
        "## Model 3"
      ]
    },
    {
      "cell_type": "markdown",
      "metadata": {
        "colab_type": "text",
        "id": "BWK1ggNRAk9z"
      },
      "source": [
        "* trying fewer layers and fewer dropouts\n",
        "* add dropout layers after each pooling layer"
      ]
    },
    {
      "cell_type": "code",
      "metadata": {
        "colab_type": "code",
        "id": "S1WErkU6Ak9z",
        "colab": {}
      },
      "source": [
        "# building the a 2nd CNN model\n",
        "model_3 = models.Sequential()\n",
        "model_3.add(layers.Conv2D(32, (3, 3), activation='relu', padding=\"same\",\n",
        "                        input_shape=(150, 150, 3)))\n",
        "model_3.add(layers.MaxPooling2D((2, 2)))\n",
        "model_3.add(Dropout(0.25))\n",
        "model_3.add(layers.Conv2D(64, (3, 3), activation='relu'))\n",
        "model_3.add(layers.MaxPooling2D((2, 2)))\n",
        "model.add(Dropout(0.25))\n",
        "model_3.add(layers.Conv2D(128, (3, 3), activation='relu'))\n",
        "model_3.add(layers.MaxPooling2D((2, 2)))\n",
        "model_3.add(layers.Flatten() )# this converts 3D feature maps to 1D vectors\n",
        "model_3.add(layers.Dense(512, activation='relu'))\n",
        "model_3.add(layers.Dense(1, activation='sigmoid'))"
      ],
      "execution_count": 0,
      "outputs": []
    },
    {
      "cell_type": "markdown",
      "metadata": {
        "colab_type": "text",
        "id": "y5szmwHbAk93"
      },
      "source": [
        "* Change the optimizer to `Adam`\n",
        "* use 'accuracy' metrics"
      ]
    },
    {
      "cell_type": "code",
      "metadata": {
        "colab_type": "code",
        "id": "rkoUIE4yAk94",
        "colab": {}
      },
      "source": [
        "# compiling the model\n",
        "model_3.compile(loss='binary_crossentropy',\n",
        "              optimizer=optimizers.Adam(lr=1e-4),\n",
        "              metrics=['acc'])"
      ],
      "execution_count": 0,
      "outputs": []
    },
    {
      "cell_type": "markdown",
      "metadata": {
        "colab_type": "text",
        "id": "s6Nn2UcOAk96"
      },
      "source": [
        ">Import keras modules: \n",
        "* to stop training when a monitored quantity has stopped improving\n",
        "* to save the model after every epoch\n",
        "* to reduce learning rate when a metric has stopped improving\n"
      ]
    },
    {
      "cell_type": "code",
      "metadata": {
        "colab_type": "code",
        "id": "7lDxO7jZAk97",
        "colab": {}
      },
      "source": [
        "# importing keras modules\n",
        "from keras.callbacks import EarlyStopping\n",
        "from keras.callbacks import ModelCheckpoint\n",
        "from keras.callbacks import ReduceLROnPlateau"
      ],
      "execution_count": 0,
      "outputs": []
    },
    {
      "cell_type": "code",
      "metadata": {
        "id": "fC6OfhHBtBms",
        "colab_type": "code",
        "colab": {}
      },
      "source": [
        "# increase early stopping patience"
      ],
      "execution_count": 0,
      "outputs": []
    },
    {
      "cell_type": "code",
      "metadata": {
        "colab_type": "code",
        "id": "VtF6Sfk6Ak9-",
        "colab": {}
      },
      "source": [
        "# updating callback checkpoints\n",
        "f_path = './models/'\n",
        "my_callbacks = [\n",
        "    EarlyStopping(patience=7, verbose=1),\n",
        "    ReduceLROnPlateau(factor=0.1, patience=3, min_lr=0.00001, verbose=1),\n",
        "    ModelCheckpoint(filepath = f_path + 'p3_model_3.h5', \n",
        "    verbose=1, save_best_only=True, save_weights_only=False) \n",
        "    ]"
      ],
      "execution_count": 0,
      "outputs": []
    },
    {
      "cell_type": "code",
      "metadata": {
        "colab_type": "code",
        "id": "Uqs-AYq1Ak-B",
        "colab": {
          "base_uri": "https://localhost:8080/",
          "height": 1000
        },
        "outputId": "92a9958d-d90c-4a54-8664-49a44c1e1514"
      },
      "source": [
        "# training and evaluating the model\n",
        "# using the callback in the `model.fit`\n",
        "history_3 = model_3.fit_generator(train_generator, \n",
        "                              steps_per_epoch=100, \n",
        "                              epochs=30, \n",
        "                              validation_data=validation_generator, \n",
        "                              validation_steps=50, \n",
        "                              callbacks = my_callbacks)"
      ],
      "execution_count": 66,
      "outputs": [
        {
          "output_type": "stream",
          "text": [
            "Epoch 1/30\n",
            "100/100 [==============================] - 60s 596ms/step - loss: 9.7075 - acc: 0.6653 - val_loss: 0.6926 - val_acc: 0.6250\n",
            "\n",
            "Epoch 00001: val_loss improved from inf to 0.69258, saving model to ./models/p3_model_3.h5\n",
            "Epoch 2/30\n",
            "100/100 [==============================] - 55s 553ms/step - loss: 0.6543 - acc: 0.7397 - val_loss: 0.6920 - val_acc: 0.6250\n",
            "\n",
            "Epoch 00002: val_loss improved from 0.69258 to 0.69199, saving model to ./models/p3_model_3.h5\n",
            "Epoch 3/30\n",
            "100/100 [==============================] - 55s 548ms/step - loss: 0.5423 - acc: 0.7756 - val_loss: 0.6914 - val_acc: 0.5625\n",
            "\n",
            "Epoch 00003: val_loss improved from 0.69199 to 0.69144, saving model to ./models/p3_model_3.h5\n",
            "Epoch 4/30\n",
            "100/100 [==============================] - 55s 550ms/step - loss: 0.6231 - acc: 0.7613 - val_loss: 0.6913 - val_acc: 0.8125\n",
            "\n",
            "Epoch 00004: val_loss improved from 0.69144 to 0.69133, saving model to ./models/p3_model_3.h5\n",
            "Epoch 5/30\n",
            "100/100 [==============================] - 54s 540ms/step - loss: 0.4528 - acc: 0.7978 - val_loss: 0.6912 - val_acc: 0.7500\n",
            "\n",
            "Epoch 00005: val_loss improved from 0.69133 to 0.69124, saving model to ./models/p3_model_3.h5\n",
            "Epoch 6/30\n",
            "100/100 [==============================] - 54s 543ms/step - loss: 0.4088 - acc: 0.8200 - val_loss: 0.6911 - val_acc: 0.7500\n",
            "\n",
            "Epoch 00006: val_loss improved from 0.69124 to 0.69114, saving model to ./models/p3_model_3.h5\n",
            "Epoch 7/30\n",
            "100/100 [==============================] - 55s 545ms/step - loss: 0.4132 - acc: 0.8109 - val_loss: 0.6911 - val_acc: 0.6875\n",
            "\n",
            "Epoch 00007: val_loss improved from 0.69114 to 0.69113, saving model to ./models/p3_model_3.h5\n",
            "Epoch 8/30\n",
            "100/100 [==============================] - 54s 538ms/step - loss: 0.3718 - acc: 0.8394 - val_loss: 0.6914 - val_acc: 0.6875\n",
            "\n",
            "Epoch 00008: val_loss did not improve from 0.69113\n",
            "Epoch 9/30\n",
            "100/100 [==============================] - 55s 548ms/step - loss: 0.3806 - acc: 0.8309 - val_loss: 0.6915 - val_acc: 0.5625\n",
            "\n",
            "Epoch 00009: ReduceLROnPlateau reducing learning rate to 1e-05.\n",
            "\n",
            "Epoch 00009: val_loss did not improve from 0.69113\n",
            "Epoch 10/30\n",
            "100/100 [==============================] - 54s 540ms/step - loss: 0.3313 - acc: 0.8491 - val_loss: 0.6915 - val_acc: 0.5625\n",
            "\n",
            "Epoch 00010: val_loss did not improve from 0.69113\n",
            "Epoch 11/30\n",
            "100/100 [==============================] - 54s 538ms/step - loss: 0.3328 - acc: 0.8541 - val_loss: 0.6914 - val_acc: 0.5625\n",
            "\n",
            "Epoch 00011: val_loss did not improve from 0.69113\n",
            "Epoch 12/30\n",
            "100/100 [==============================] - 54s 541ms/step - loss: 0.3331 - acc: 0.8506 - val_loss: 0.6914 - val_acc: 0.6250\n",
            "\n",
            "Epoch 00012: val_loss did not improve from 0.69113\n",
            "Epoch 13/30\n",
            "100/100 [==============================] - 54s 539ms/step - loss: 0.3178 - acc: 0.8587 - val_loss: 0.6913 - val_acc: 0.6250\n",
            "\n",
            "Epoch 00013: val_loss did not improve from 0.69113\n",
            "Epoch 14/30\n",
            "100/100 [==============================] - 58s 581ms/step - loss: 0.3187 - acc: 0.8637 - val_loss: 0.6913 - val_acc: 0.6250\n",
            "\n",
            "Epoch 00014: val_loss did not improve from 0.69113\n",
            "Epoch 00014: early stopping\n"
          ],
          "name": "stdout"
        }
      ]
    },
    {
      "cell_type": "code",
      "metadata": {
        "colab_type": "code",
        "id": "Ql8mOO-CAk-G",
        "colab": {
          "base_uri": "https://localhost:8080/",
          "height": 514
        },
        "outputId": "81b65b2a-21d4-43ea-f4fd-acad8564922a"
      },
      "source": [
        "model_3.summary()"
      ],
      "execution_count": 67,
      "outputs": [
        {
          "output_type": "stream",
          "text": [
            "Model: \"sequential_3\"\n",
            "_________________________________________________________________\n",
            "Layer (type)                 Output Shape              Param #   \n",
            "=================================================================\n",
            "conv2d_9 (Conv2D)            (None, 150, 150, 32)      896       \n",
            "_________________________________________________________________\n",
            "max_pooling2d_9 (MaxPooling2 (None, 75, 75, 32)        0         \n",
            "_________________________________________________________________\n",
            "dropout_5 (Dropout)          (None, 75, 75, 32)        0         \n",
            "_________________________________________________________________\n",
            "conv2d_10 (Conv2D)           (None, 73, 73, 64)        18496     \n",
            "_________________________________________________________________\n",
            "max_pooling2d_10 (MaxPooling (None, 36, 36, 64)        0         \n",
            "_________________________________________________________________\n",
            "conv2d_11 (Conv2D)           (None, 34, 34, 128)       73856     \n",
            "_________________________________________________________________\n",
            "max_pooling2d_11 (MaxPooling (None, 17, 17, 128)       0         \n",
            "_________________________________________________________________\n",
            "flatten_3 (Flatten)          (None, 36992)             0         \n",
            "_________________________________________________________________\n",
            "dense_6 (Dense)              (None, 512)               18940416  \n",
            "_________________________________________________________________\n",
            "dense_7 (Dense)              (None, 1)                 513       \n",
            "=================================================================\n",
            "Total params: 19,034,177\n",
            "Trainable params: 19,034,177\n",
            "Non-trainable params: 0\n",
            "_________________________________________________________________\n"
          ],
          "name": "stdout"
        }
      ]
    },
    {
      "cell_type": "markdown",
      "metadata": {
        "colab_type": "text",
        "id": "_FbNna26Ak-I"
      },
      "source": [
        "__Visualize Training Results__"
      ]
    },
    {
      "cell_type": "code",
      "metadata": {
        "colab_type": "code",
        "id": "virbd0RwAk-J",
        "colab": {
          "base_uri": "https://localhost:8080/",
          "height": 544
        },
        "outputId": "4160dd9d-d9a1-4ac0-ba6b-e0124a63d60b"
      },
      "source": [
        "import matplotlib.pyplot as plt\n",
        "%matplotlib inline \n",
        "acc = history_3.history['acc']\n",
        "val_acc = history_3.history['val_acc']\n",
        "loss = history_3.history['loss']\n",
        "val_loss = history_3.history['val_loss']\n",
        "epochs = range(len(acc))\n",
        "plt.plot(epochs, acc, 'bo', label='Training acc')\n",
        "plt.plot(epochs, val_acc, 'b', label='Validation acc')\n",
        "plt.title('Training and validation accuracy along epochs')\n",
        "plt.legend()\n",
        "plt.figure()\n",
        "plt.plot(epochs, loss, 'bo', label='Training loss')\n",
        "plt.plot(epochs, val_loss, 'b', label='Validation loss')\n",
        "plt.title('Training and validation loss along epochs')\n",
        "plt.legend()\n",
        "plt.show()"
      ],
      "execution_count": 68,
      "outputs": [
        {
          "output_type": "display_data",
          "data": {
            "image/png": "[encoded data removed]",
            "text/plain": [
              "<Figure size 432x288 with 1 Axes>"
            ]
          },
          "metadata": {
            "tags": [],
            "needs_background": "light"
          }
        },
        {
          "output_type": "display_data",
          "data": {
            "image/png": "[encoded data removed]",
            "text/plain": [
              "<Figure size 432x288 with 1 Axes>"
            ]
          },
          "metadata": {
            "tags": [],
            "needs_background": "light"
          }
        }
      ]
    },
    {
      "cell_type": "code",
      "metadata": {
        "colab_type": "code",
        "id": "CC4UrjX3Ak-M",
        "colab": {
          "base_uri": "https://localhost:8080/",
          "height": 52
        },
        "outputId": "4095d042-3660-4373-d1b6-09cf4bf11b5b"
      },
      "source": [
        "val_loss, val_acc = model_3.evaluate_generator(validation_generator, \n",
        "                                               steps=50)\n",
        "\n",
        "print('val loss:', val_loss)\n",
        "print('val acc:', val_acc)"
      ],
      "execution_count": 69,
      "outputs": [
        {
          "output_type": "stream",
          "text": [
            "val loss: 0.691329300403595\n",
            "val acc: 0.625\n"
          ],
          "name": "stdout"
        }
      ]
    },
    {
      "cell_type": "markdown",
      "metadata": {
        "id": "PMnH1ARzeprv",
        "colab_type": "text"
      },
      "source": [
        "> Acurracy droped from the previous model."
      ]
    },
    {
      "cell_type": "markdown",
      "metadata": {
        "colab_type": "text",
        "id": "sP23jqYydvsa"
      },
      "source": [
        "__Plot Confusion Matrix__"
      ]
    },
    {
      "cell_type": "code",
      "metadata": {
        "colab_type": "code",
        "id": "UsVNyo0Cdvsb",
        "colab": {
          "base_uri": "https://localhost:8080/",
          "height": 52
        },
        "outputId": "3aa778a1-43ed-47d2-e68d-c1a450dd9279"
      },
      "source": [
        "# from sklearn.metrics import confusion_matrix\n",
        "y_true=validation_generator.classes\n",
        "print(y_true)\n",
        "\n",
        "y_pred = model_3.predict_generator(validation_generator)\n",
        "y_pred = np.argmax(y_pred,axis = 1)\n",
        "print(y_pred)"
      ],
      "execution_count": 70,
      "outputs": [
        {
          "output_type": "stream",
          "text": [
            "[0 0 0 0 0 0 0 0 1 1 1 1 1 1 1 1]\n",
            "[0 0 0 0 0 0 0 0 0 0 0 0 0 0 0 0]\n"
          ],
          "name": "stdout"
        }
      ]
    },
    {
      "cell_type": "code",
      "metadata": {
        "id": "PH_2PV2__lPl",
        "colab_type": "code",
        "colab": {
          "base_uri": "https://localhost:8080/",
          "height": 238
        },
        "outputId": "076c895b-d20b-4566-b783-4b11dfbe7950"
      },
      "source": [
        "CM = confusion_matrix(y_true, y_pred)\n",
        "\n",
        "fig, ax = plot_confusion_matrix(conf_mat=CM , \n",
        "                                figsize=(7, 7), \n",
        "                                hide_ticks=True, \n",
        "                                cmap=plt.cm.Blues)\n",
        "# plt.xticks(range(len(classes)), classes, fontsize=12)\n",
        "# plt.yticks(range(len(classes)), classes, fontsize=12)\n",
        "plt.title(\"Confusion Matrix for ...: \\n\") #+model_title, fontsize=11\n",
        "# fig.savefig(image_file_name_CM, dpi=100)\n",
        "plt.show()"
      ],
      "execution_count": 71,
      "outputs": [
        {
          "output_type": "error",
          "ename": "NameError",
          "evalue": "ignored",
          "traceback": [
            "\u001b[0;31m---------------------------------------------------------------------------\u001b[0m",
            "\u001b[0;31mNameError\u001b[0m                                 Traceback (most recent call last)",
            "\u001b[0;32m<ipython-input-71-17b3c8a12d1b>\u001b[0m in \u001b[0;36m<module>\u001b[0;34m()\u001b[0m\n\u001b[0;32m----> 1\u001b[0;31m \u001b[0mCM\u001b[0m \u001b[0;34m=\u001b[0m \u001b[0mconfusion_matrix\u001b[0m\u001b[0;34m(\u001b[0m\u001b[0my_true\u001b[0m\u001b[0;34m,\u001b[0m \u001b[0my_pred\u001b[0m\u001b[0;34m)\u001b[0m\u001b[0;34m\u001b[0m\u001b[0;34m\u001b[0m\u001b[0m\n\u001b[0m\u001b[1;32m      2\u001b[0m \u001b[0;34m\u001b[0m\u001b[0m\n\u001b[1;32m      3\u001b[0m fig, ax = plot_confusion_matrix(conf_mat=CM , \n\u001b[1;32m      4\u001b[0m                                 \u001b[0mfigsize\u001b[0m\u001b[0;34m=\u001b[0m\u001b[0;34m(\u001b[0m\u001b[0;36m7\u001b[0m\u001b[0;34m,\u001b[0m \u001b[0;36m7\u001b[0m\u001b[0;34m)\u001b[0m\u001b[0;34m,\u001b[0m\u001b[0;34m\u001b[0m\u001b[0;34m\u001b[0m\u001b[0m\n\u001b[1;32m      5\u001b[0m                                 \u001b[0mhide_ticks\u001b[0m\u001b[0;34m=\u001b[0m\u001b[0;32mTrue\u001b[0m\u001b[0;34m,\u001b[0m\u001b[0;34m\u001b[0m\u001b[0;34m\u001b[0m\u001b[0m\n",
            "\u001b[0;31mNameError\u001b[0m: name 'confusion_matrix' is not defined"
          ]
        }
      ]
    },
    {
      "cell_type": "code",
      "metadata": {
        "colab_type": "code",
        "id": "L5xxfgOGAk-E",
        "colab": {
          "base_uri": "https://localhost:8080/",
          "height": 461
        },
        "outputId": "cd57ed0c-12f9-4e4d-f1cf-f4a6357fc470"
      },
      "source": [
        "# download the model\n",
        "files.download('./models/p3_model_3.h5')"
      ],
      "execution_count": 72,
      "outputs": [
        {
          "output_type": "stream",
          "text": [
            "----------------------------------------\n",
            "Exception happened during processing of request from ('::ffff:127.0.0.1', 36166, 0, 0)\n",
            "Traceback (most recent call last):\n",
            "  File \"/usr/lib/python3.6/socketserver.py\", line 320, in _handle_request_noblock\n",
            "    self.process_request(request, client_address)\n",
            "  File \"/usr/lib/python3.6/socketserver.py\", line 351, in process_request\n",
            "    self.finish_request(request, client_address)\n",
            "  File \"/usr/lib/python3.6/socketserver.py\", line 364, in finish_request\n",
            "    self.RequestHandlerClass(request, client_address, self)\n",
            "  File \"/usr/lib/python3.6/socketserver.py\", line 724, in __init__\n",
            "    self.handle()\n",
            "  File \"/usr/lib/python3.6/http/server.py\", line 418, in handle\n",
            "    self.handle_one_request()\n",
            "  File \"/usr/lib/python3.6/http/server.py\", line 406, in handle_one_request\n",
            "    method()\n",
            "  File \"/usr/lib/python3.6/http/server.py\", line 639, in do_GET\n",
            "    self.copyfile(f, self.wfile)\n",
            "  File \"/usr/lib/python3.6/http/server.py\", line 800, in copyfile\n",
            "    shutil.copyfileobj(source, outputfile)\n",
            "  File \"/usr/lib/python3.6/shutil.py\", line 82, in copyfileobj\n",
            "    fdst.write(buf)\n",
            "  File \"/usr/lib/python3.6/socketserver.py\", line 803, in write\n",
            "    self._sock.sendall(b)\n",
            "ConnectionResetError: [Errno 104] Connection reset by peer\n",
            "----------------------------------------\n"
          ],
          "name": "stderr"
        }
      ]
    },
    {
      "cell_type": "markdown",
      "metadata": {
        "colab_type": "text",
        "id": "mfI6pTbAFqJS"
      },
      "source": [
        "### Evaluate Model 3 on Test Data"
      ]
    },
    {
      "cell_type": "code",
      "metadata": {
        "colab_type": "code",
        "id": "U4WXr3ZEFqJT",
        "colab": {
          "base_uri": "https://localhost:8080/",
          "height": 70
        },
        "outputId": "c8500815-8894-45d7-9685-ca98510e9f4e"
      },
      "source": [
        "test_generator = test_datagen.flow_from_directory(test_dir, \n",
        "                                                  target_size=(150, 150), \n",
        "                                                  batch_size=20, \n",
        "                                                  class_mode='binary')\n",
        "\n",
        "test_loss, test_acc = model_3.evaluate_generator(test_generator, steps=50)\n",
        "\n",
        "print('test loss:', test_loss)\n",
        "print('test acc:', test_acc)"
      ],
      "execution_count": 73,
      "outputs": [
        {
          "output_type": "stream",
          "text": [
            "Found 624 images belonging to 2 classes.\n",
            "test loss: 0.688644528388977\n",
            "test acc: 0.6707317233085632\n"
          ],
          "name": "stdout"
        }
      ]
    },
    {
      "cell_type": "markdown",
      "metadata": {
        "id": "9LG3hOcjfIWk",
        "colab_type": "text"
      },
      "source": [
        ">The accuracy score for test data is even (slightly) lower than that of the second model."
      ]
    },
    {
      "cell_type": "markdown",
      "metadata": {
        "id": "uKZCFJLMKLFZ",
        "colab_type": "text"
      },
      "source": [
        "# Select a Final Model\n",
        "\n",
        "> It turns out that our best performing model was our first augmented model, with RMSprop optimization."
      ]
    },
    {
      "cell_type": "code",
      "metadata": {
        "id": "S9zylGvJKOjF",
        "colab_type": "code",
        "colab": {
          "base_uri": "https://localhost:8080/",
          "height": 70
        },
        "outputId": "950c1796-b787-4f36-9a1f-3111205cc89f"
      },
      "source": [
        "# evaluating the best model on test data\n",
        "# setting steps to 39 and batch_size to 16 (for 624 images)\n",
        "test_generator = test_datagen.flow_from_directory(test_dir, \n",
        "                                                  target_size=(150, 150), \n",
        "                                                  batch_size=16, \n",
        "                                                  class_mode='binary')\n",
        "\n",
        "test_loss, test_acc = model.evaluate_generator(test_generator, steps=39)\n",
        "\n",
        "print('test loss:', test_loss)\n",
        "print('test acc:', test_acc)"
      ],
      "execution_count": 74,
      "outputs": [
        {
          "output_type": "stream",
          "text": [
            "Found 624 images belonging to 2 classes.\n",
            "test loss: 0.5838384628295898\n",
            "test acc: 0.8253205418586731\n"
          ],
          "name": "stdout"
        }
      ]
    },
    {
      "cell_type": "markdown",
      "metadata": {
        "id": "KoetEZGxiFY0",
        "colab_type": "text"
      },
      "source": [
        "* We can use this model as a basis for further tuning, or distribute the model as - is.\n",
        "* A potential approach would be to perform a gridsearch on the optimizer, to determine best parameters.\n"
      ]
    },
    {
      "cell_type": "markdown",
      "metadata": {
        "id": "upELSyddR9xy",
        "colab_type": "text"
      },
      "source": [
        "## Distribution\n",
        "\n",
        "* Since we previously saved our `my_model.h5` model, we can distribute it and use it on another system or for another project, as follows.\n",
        "* The string summary can be saved and shared, as well."
      ]
    },
    {
      "cell_type": "code",
      "metadata": {
        "id": "FGW-Es_ql00T",
        "colab_type": "code",
        "colab": {
          "base_uri": "https://localhost:8080/",
          "height": 550
        },
        "outputId": "601e8a22-5c9e-4abf-e099-89155b023380"
      },
      "source": [
        "# loading the saved model\n",
        "from keras.models import load_model\n",
        "\n",
        "filepath = '/root/data/models/p3_model.h5' # current path to saved file\n",
        "\n",
        "dist_model = load_model(filepath, \n",
        "         custom_objects={'loss':'binary_crossentropy'})\n",
        "\n",
        "# printing string summary\n",
        "dist_model.summary()"
      ],
      "execution_count": 75,
      "outputs": [
        {
          "output_type": "stream",
          "text": [
            "Model: \"sequential_1\"\n",
            "_________________________________________________________________\n",
            "Layer (type)                 Output Shape              Param #   \n",
            "=================================================================\n",
            "conv2d_1 (Conv2D)            (None, 148, 148, 32)      896       \n",
            "_________________________________________________________________\n",
            "max_pooling2d_1 (MaxPooling2 (None, 74, 74, 32)        0         \n",
            "_________________________________________________________________\n",
            "conv2d_2 (Conv2D)            (None, 72, 72, 64)        18496     \n",
            "_________________________________________________________________\n",
            "max_pooling2d_2 (MaxPooling2 (None, 36, 36, 64)        0         \n",
            "_________________________________________________________________\n",
            "conv2d_3 (Conv2D)            (None, 34, 34, 128)       73856     \n",
            "_________________________________________________________________\n",
            "max_pooling2d_3 (MaxPooling2 (None, 17, 17, 128)       0         \n",
            "_________________________________________________________________\n",
            "conv2d_4 (Conv2D)            (None, 15, 15, 128)       147584    \n",
            "_________________________________________________________________\n",
            "max_pooling2d_4 (MaxPooling2 (None, 7, 7, 128)         0         \n",
            "_________________________________________________________________\n",
            "flatten_1 (Flatten)          (None, 6272)              0         \n",
            "_________________________________________________________________\n",
            "dense_1 (Dense)              (None, 512)               3211776   \n",
            "_________________________________________________________________\n",
            "dense_2 (Dense)              (None, 1)                 513       \n",
            "=================================================================\n",
            "Total params: 3,453,121\n",
            "Trainable params: 3,453,121\n",
            "Non-trainable params: 0\n",
            "_________________________________________________________________\n"
          ],
          "name": "stdout"
        }
      ]
    },
    {
      "cell_type": "markdown",
      "metadata": {
        "id": "HI6XLzkH1nxf",
        "colab_type": "text"
      },
      "source": [
        "The model's architecture may be shared as an image."
      ]
    },
    {
      "cell_type": "code",
      "metadata": {
        "id": "4vBq2_l0z7z0",
        "colab_type": "code",
        "colab": {
          "base_uri": "https://localhost:8080/",
          "height": 1000
        },
        "outputId": "1d1efbcb-183a-42da-81fa-0ee524f59189"
      },
      "source": [
        "from keras.utils import plot_model\n",
        "\n",
        "# plot model architecture, only\n",
        "plot_model(dist_model)"
      ],
      "execution_count": 76,
      "outputs": [
        {
          "output_type": "execute_result",
          "data": {
            "image/png": "[encoded data removed]",
            "text/plain": [
              "<IPython.core.display.Image object>"
            ]
          },
          "metadata": {
            "tags": []
          },
          "execution_count": 76
        }
      ]
    },
    {
      "cell_type": "code",
      "metadata": {
        "id": "XGOXMuZNg7kF",
        "colab_type": "code",
        "colab": {
          "base_uri": "https://localhost:8080/",
          "height": 70
        },
        "outputId": "5d982156-7e1a-43f4-84af-980e50111370"
      },
      "source": [
        "# evaluating the distributed model on test data\n",
        "# setting steps to 39 and batch_size to 16 (for 624 images)\n",
        "test_generator = test_datagen.flow_from_directory(test_dir, \n",
        "                                                  target_size=(150, 150), \n",
        "                                                  batch_size=16, \n",
        "                                                  class_mode='binary')\n",
        "\n",
        "test_loss, test_acc = dist_model.evaluate_generator(test_generator, \n",
        "                                                    steps=39)\n",
        "\n",
        "print('Restored model, loss:', test_loss)\n",
        "print('Restored model, acc:', test_acc)"
      ],
      "execution_count": 77,
      "outputs": [
        {
          "output_type": "stream",
          "text": [
            "Found 624 images belonging to 2 classes.\n",
            "Restored model, loss: 0.22047266364097595\n",
            "Restored model, acc: 0.8301281929016113\n"
          ],
          "name": "stdout"
        }
      ]
    },
    {
      "cell_type": "markdown",
      "metadata": {
        "id": "BPeg6cWCsXB4",
        "colab_type": "text"
      },
      "source": [
        "***\n",
        "\n",
        "> Somehow, the restored model reports an even better performance than we realized when it was first run (> __86.06\\%__ vs. __83.97\\%__). \n",
        "* One apparent difference is that we used 39 steps to evaluate the reloaded model, where we originally had used 50 steps.\n",
        "* I also included a 'ModelCheckpoint' callback that saved the model only after epochs where loss improved.\n",
        "* Also worth of exploration is the effect of the lack of dropout layers in testing. \n",
        ">\n",
        ">For now, let's re - check the distributed model against the test data."
      ]
    },
    {
      "cell_type": "markdown",
      "metadata": {
        "id": "ctHBewU6KgXN",
        "colab_type": "text"
      },
      "source": [
        "# Summary"
      ]
    }
  ]
}